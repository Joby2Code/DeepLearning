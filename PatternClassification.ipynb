{
 "cells": [
  {
   "cell_type": "markdown",
   "metadata": {},
   "source": [
    "<h3> A Neural Network Implementation for Pattern Classification using Hebb's rule </h3>"
   ]
  },
  {
   "cell_type": "markdown",
   "metadata": {},
   "source": [
    "<b>Reading input images </b>"
   ]
  },
  {
   "cell_type": "code",
   "execution_count": 1,
   "metadata": {
    "collapsed": true
   },
   "outputs": [],
   "source": [
    "import numpy as np\n",
    "import os"
   ]
  },
  {
   "cell_type": "code",
   "execution_count": 2,
   "metadata": {
    "collapsed": true
   },
   "outputs": [],
   "source": [
    "filePath = \"./pattern_data/\""
   ]
  },
  {
   "cell_type": "code",
   "execution_count": 3,
   "metadata": {
    "collapsed": false
   },
   "outputs": [],
   "source": [
    "def read_file(fileName):\n",
    "    file = os.path.join(filePath,fileName)\n",
    "    print('Quering file {}'.format(file))\n",
    "    \n",
    "    pattern, labels,pixel =[],[],[];\n",
    "    with open(file,\"r\") as f:\n",
    "        lines = f.read().splitlines()\n",
    "        for line in lines:\n",
    "            for ch in line:\n",
    "                if ch == \"#\" or ch == \".\":\n",
    "                    pixel.append(ch)\n",
    "                elif ch ==\",\":\n",
    "                    pattern.append(pixel)\n",
    "                    pixel=[]\n",
    "                else:\n",
    "                    labels.append(ch)\n",
    "            \n",
    "    print('..Completed processing file...\"')\n",
    "    return pattern, labels\n",
    "    \n",
    "    \n",
    "    \n",
    "    "
   ]
  },
  {
   "cell_type": "code",
   "execution_count": 4,
   "metadata": {
    "collapsed": false
   },
   "outputs": [
    {
     "name": "stdout",
     "output_type": "stream",
     "text": [
      "Quering file ./pattern_data/training_data.txt\n",
      "..Completed processing file...\"\n"
     ]
    }
   ],
   "source": [
    "train_patterns,train_labels = read_file(fileName=\"training_data.txt\")"
   ]
  },
  {
   "cell_type": "code",
   "execution_count": 5,
   "metadata": {
    "collapsed": false
   },
   "outputs": [
    {
     "name": "stdout",
     "output_type": "stream",
     "text": [
      "Quering file ./pattern_data/test_data.txt\n",
      "..Completed processing file...\"\n"
     ]
    }
   ],
   "source": [
    "test_patterns,test_labels = read_file(fileName=\"test_data.txt\")\n"
   ]
  },
  {
   "cell_type": "code",
   "execution_count": 6,
   "metadata": {
    "collapsed": false
   },
   "outputs": [],
   "source": [
    "def convertPatternToBipolarVectors(patterns):\n",
    "    input_vector,image = [],[];\n",
    "    for pattern in patterns:\n",
    "        for  ch in pattern:\n",
    "            if ch == \"#\":\n",
    "                image.append(-1)\n",
    "            elif ch == \".\":\n",
    "                image.append(1)\n",
    "                \n",
    "        input_vector.append(image)\n",
    "        image=[]\n",
    "        \n",
    "    return input_vector\n",
    "\n",
    "def convertLabelToBipolar(labels):\n",
    "    output_vector =[];\n",
    "    \n",
    "    for ch in labels:\n",
    "        if ch == \"C\":\n",
    "            output_vector.append(1)\n",
    "        else:\n",
    "            output_vector.append(-1)\n",
    "\n",
    "    return output_vector\n",
    "            "
   ]
  },
  {
   "cell_type": "code",
   "execution_count": 7,
   "metadata": {
    "collapsed": false
   },
   "outputs": [],
   "source": [
    "bipolar_train = convertPatternToBipolarVectors(train_patterns)\n",
    "bipolar_train_label = convertLabelToBipolar(train_labels)"
   ]
  },
  {
   "cell_type": "code",
   "execution_count": 8,
   "metadata": {
    "collapsed": true
   },
   "outputs": [],
   "source": [
    "bipolar_test = convertPatternToBipolarVectors(test_patterns)"
   ]
  },
  {
   "cell_type": "code",
   "execution_count": 9,
   "metadata": {
    "collapsed": true
   },
   "outputs": [],
   "source": [
    "def convertTrainToNumpyArray(data,labels):\n",
    "    images = np.array(data)\n",
    "    dim = labels[0]\n",
    "    t = np.array(labels).reshape(-1,dim)\n",
    "    return images,t\n",
    "\n",
    "def convertTestToNumpyArray(data):\n",
    "    images = np.array(data)\n",
    "    return images\n"
   ]
  },
  {
   "cell_type": "code",
   "execution_count": 10,
   "metadata": {
    "collapsed": false
   },
   "outputs": [],
   "source": [
    "patterns_train,t = convertTrainToNumpyArray(bipolar_train,bipolar_train_label)"
   ]
  },
  {
   "cell_type": "code",
   "execution_count": 11,
   "metadata": {
    "collapsed": false
   },
   "outputs": [
    {
     "name": "stdout",
     "output_type": "stream",
     "text": [
      "Training Images dimensions (2, 15)\n",
      "Training Labels dimensions (2, 1)\n"
     ]
    }
   ],
   "source": [
    "print('Training Images dimensions',patterns_train.shape)\n",
    "print('Training Labels dimensions',t.shape)"
   ]
  },
  {
   "cell_type": "code",
   "execution_count": 12,
   "metadata": {
    "collapsed": true
   },
   "outputs": [],
   "source": [
    "patterns_test = convertTestToNumpyArray(bipolar_test)"
   ]
  },
  {
   "cell_type": "code",
   "execution_count": 13,
   "metadata": {
    "collapsed": false
   },
   "outputs": [
    {
     "name": "stdout",
     "output_type": "stream",
     "text": [
      "Testing Images dimensions (14, 15)\n"
     ]
    }
   ],
   "source": [
    "print('Testing Images dimensions',patterns_test.shape)\n",
    "\n",
    "     "
   ]
  },
  {
   "cell_type": "markdown",
   "metadata": {},
   "source": [
    "<b>Define the dimensions for a two layered  Neural Network Perceptron Model</b>"
   ]
  },
  {
   "cell_type": "code",
   "execution_count": 14,
   "metadata": {
    "collapsed": true
   },
   "outputs": [],
   "source": [
    "\n",
    "dimensions = [patterns_train.shape[1],t.shape[1]]\n",
    "parameters = {}\n"
   ]
  },
  {
   "cell_type": "markdown",
   "metadata": {},
   "source": [
    "Define the Neural Network"
   ]
  },
  {
   "cell_type": "code",
   "execution_count": 15,
   "metadata": {
    "collapsed": false
   },
   "outputs": [],
   "source": [
    "class NeuralNetwork:\n",
    "    def __init__(self,dimensions):\n",
    "        self.parameters = parameters\n",
    "        \n",
    "        print('...Initializing Parameters for the model...')\n",
    "        parameters[\"W\"] = np.zeros([dimensions[0],dimensions[1]])\n",
    "        parameters[\"b\"] = np.zeros([dimensions[1],1])\n",
    "        \n",
    "        #print('Weight Matrix defined as {}'.format(parameters[\"W\"].shape))\n",
    "        #print('Bias Vector defined as {}'.format(parameters[\"b\"].shape))\n",
    "        \n",
    "    def affineForward(self,X,W,b):\n",
    "        print('.....Staring affineForward.....')\n",
    "        yin = np.dot(X,W) + b      \n",
    "        #print(yin)\n",
    "        return yin\n",
    "    \n",
    "    def feedForwardPropagation(self,X):\n",
    "        print('....Start FeedForwardPropagation....')\n",
    "        \n",
    "        W = self.parameters[\"W\"]\n",
    "        b = self.parameters[\"b\"]\n",
    "        yin = self.affineForward(X,W,b)\n",
    "        \n",
    "        #print ('Shape of output {}'.format(yin.shape))\n",
    "        return yin\n",
    "    \n",
    "    def backwardPropagation(self,t,S):\n",
    "        print('....Starting backpropagation.....')\n",
    "        dw = np.dot(S.T,t)\n",
    "        db = np.sum(t,axis=0).reshape(1,-1)\n",
    "        #print('Delta W:{}'.format(dw.shape))\n",
    "        #print('Delta b:{}'.format(db.shape))\n",
    "        return dw,db\n",
    "    \n",
    "    def updateParameters(self,dw,db):\n",
    "        print('....Updating Weight and bias.....')\n",
    "        parameters = self.parameters\n",
    "        \n",
    "        parameters[\"W\"] = np.add(parameters[\"W\"],dw)\n",
    "        parameters[\"b\"] = np.add(parameters[\"b\"],db)\n",
    "        \n",
    "        \n",
    "    def train(self,X,t,numOfIterations):\n",
    "        S = X\n",
    "        y = t\n",
    "        print('......Training Data Model......')\n",
    "        for i in range(1,numOfIterations):\n",
    "            print('Starting iteration {}....'.format(i))\n",
    "            yin = self.feedForwardPropagation(X)\n",
    "            dw,db = self.backwardPropagation(y,S)\n",
    "            self.updateParameters(dw,db)\n",
    "        \n",
    "        print('...Training ends here....')\n",
    "        \n",
    "     \n",
    "    def predict(self,X):\n",
    "        t = self.feedForwardPropagation(X)\n",
    "        return t"
   ]
  },
  {
   "cell_type": "code",
   "execution_count": 16,
   "metadata": {
    "collapsed": false
   },
   "outputs": [
    {
     "name": "stdout",
     "output_type": "stream",
     "text": [
      "...Initializing Parameters for the model...\n"
     ]
    }
   ],
   "source": [
    "model = NeuralNetwork(dimensions)\n"
   ]
  },
  {
   "cell_type": "code",
   "execution_count": 17,
   "metadata": {
    "collapsed": false
   },
   "outputs": [
    {
     "name": "stdout",
     "output_type": "stream",
     "text": [
      "......Training Data Model......\n",
      "Starting iteration 1....\n",
      "....Start FeedForwardPropagation....\n",
      ".....Staring affineForward.....\n",
      "....Starting backpropagation.....\n",
      "....Updating Weight and bias.....\n",
      "Starting iteration 2....\n",
      "....Start FeedForwardPropagation....\n",
      ".....Staring affineForward.....\n",
      "....Starting backpropagation.....\n",
      "....Updating Weight and bias.....\n",
      "Starting iteration 3....\n",
      "....Start FeedForwardPropagation....\n",
      ".....Staring affineForward.....\n",
      "....Starting backpropagation.....\n",
      "....Updating Weight and bias.....\n",
      "...Training ends here....\n"
     ]
    }
   ],
   "source": [
    "model.train(patterns_train,t,4)"
   ]
  },
  {
   "cell_type": "code",
   "execution_count": 18,
   "metadata": {
    "collapsed": false
   },
   "outputs": [
    {
     "name": "stdout",
     "output_type": "stream",
     "text": [
      "....Start FeedForwardPropagation....\n",
      ".....Staring affineForward.....\n"
     ]
    }
   ],
   "source": [
    "t_pred = model.predict(patterns_test)"
   ]
  },
  {
   "cell_type": "code",
   "execution_count": 19,
   "metadata": {
    "collapsed": false
   },
   "outputs": [
    {
     "data": {
      "text/plain": [
       "array([[ 48.],\n",
       "       [ 36.],\n",
       "       [ 36.],\n",
       "       [ 36.],\n",
       "       [ 24.],\n",
       "       [ 12.],\n",
       "       [  0.],\n",
       "       [  0.],\n",
       "       [  0.],\n",
       "       [  0.],\n",
       "       [-12.],\n",
       "       [-24.],\n",
       "       [-36.],\n",
       "       [-36.]])"
      ]
     },
     "execution_count": 19,
     "metadata": {},
     "output_type": "execute_result"
    }
   ],
   "source": [
    "t_pred"
   ]
  },
  {
   "cell_type": "code",
   "execution_count": 20,
   "metadata": {
    "collapsed": true
   },
   "outputs": [],
   "source": [
    "t_pred = list(t_pred)"
   ]
  },
  {
   "cell_type": "code",
   "execution_count": 22,
   "metadata": {
    "collapsed": false
   },
   "outputs": [],
   "source": [
    "output = [ v for v in t_pred if v > 0]"
   ]
  },
  {
   "cell_type": "code",
   "execution_count": 23,
   "metadata": {
    "collapsed": false
   },
   "outputs": [
    {
     "data": {
      "text/plain": [
       "[array([48.]),\n",
       " array([36.]),\n",
       " array([36.]),\n",
       " array([36.]),\n",
       " array([24.]),\n",
       " array([12.])]"
      ]
     },
     "execution_count": 23,
     "metadata": {},
     "output_type": "execute_result"
    }
   ],
   "source": [
    "output"
   ]
  }
 ],
 "metadata": {
  "kernelspec": {
   "display_name": "Python 3",
   "language": "python",
   "name": "python3"
  },
  "language_info": {
   "codemirror_mode": {
    "name": "ipython",
    "version": 3
   },
   "file_extension": ".py",
   "mimetype": "text/x-python",
   "name": "python",
   "nbconvert_exporter": "python",
   "pygments_lexer": "ipython3",
   "version": "3.6.1"
  }
 },
 "nbformat": 4,
 "nbformat_minor": 2
}
