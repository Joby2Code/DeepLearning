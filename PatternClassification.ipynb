{
 "cells": [
  {
   "cell_type": "markdown",
   "metadata": {},
   "source": [
    "<h3> A Neural Network Implementation for Pattern Classification using Hebb's rule </h3>"
   ]
  },
  {
   "cell_type": "markdown",
   "metadata": {},
   "source": [
    "<b>Reading input images </b>"
   ]
  },
  {
   "cell_type": "code",
   "execution_count": 3,
   "metadata": {
    "collapsed": true
   },
   "outputs": [],
   "source": [
    "import numpy as np\n",
    "import os"
   ]
  },
  {
   "cell_type": "code",
   "execution_count": 88,
   "metadata": {
    "collapsed": true
   },
   "outputs": [],
   "source": [
    "filePath = \"./pattern_data/\""
   ]
  },
  {
   "cell_type": "code",
   "execution_count": 89,
   "metadata": {
    "collapsed": false
   },
   "outputs": [],
   "source": [
    "def read_file(fileName):\n",
    "    file = os.path.join(filePath,fileName)\n",
    "    print('Quering file {}'.format(file))\n",
    "    \n",
    "    pattern, labels,pixel =[],[],[];\n",
    "    with open(file,\"r\") as f:\n",
    "        lines = f.read().splitlines()\n",
    "        for line in lines:\n",
    "            for ch in line:\n",
    "                if ch == \"#\" or ch == \".\":\n",
    "                    pixel.append(ch)\n",
    "                elif ch ==\",\":\n",
    "                    pattern.append(pixel)\n",
    "                    pixel=[]\n",
    "                else:\n",
    "                    labels.append(ch)\n",
    "            \n",
    "    print('..Completed processing file...\"')\n",
    "    return pattern, labels\n",
    "    \n",
    "    \n",
    "    \n",
    "    "
   ]
  },
  {
   "cell_type": "code",
   "execution_count": 90,
   "metadata": {
    "collapsed": false
   },
   "outputs": [
    {
     "name": "stdout",
     "output_type": "stream",
     "text": [
      "Quering file ./pattern_data/training_data.txt\n",
      "..Completed processing file...\"\n"
     ]
    }
   ],
   "source": [
    "train_patterns,train_labels = read_file(fileName=\"training_data.txt\")"
   ]
  },
  {
   "cell_type": "code",
   "execution_count": 91,
   "metadata": {
    "collapsed": false
   },
   "outputs": [
    {
     "name": "stdout",
     "output_type": "stream",
     "text": [
      "Quering file ./pattern_data/test_data.txt\n",
      "..Completed processing file...\"\n"
     ]
    }
   ],
   "source": [
    "test_patterns,test_labels = read_file(fileName=\"test_data.txt\")\n"
   ]
  },
  {
   "cell_type": "code",
   "execution_count": 92,
   "metadata": {
    "collapsed": false
   },
   "outputs": [],
   "source": [
    "def convertPatternToBipolarVectors(patterns):\n",
    "    input_vector,image = [],[];\n",
    "    for pattern in patterns:\n",
    "        for  ch in pattern:\n",
    "            if ch == \"#\":\n",
    "                image.append(1)\n",
    "            elif ch == \".\":\n",
    "                image.append(-1)\n",
    "                \n",
    "        input_vector.append(image)\n",
    "        image=[]\n",
    "        \n",
    "    return input_vector\n",
    "\n",
    "def convertLabelToBipolar(labels):\n",
    "    output_vector =[];\n",
    "    \n",
    "    for ch in labels:\n",
    "        if ch == \"C\":\n",
    "            output_vector.append(1)\n",
    "        elif ch==\"X\":\n",
    "            output_vector.append(-1)\n",
    "        else:\n",
    "            output_vector.append(0)\n",
    "            \n",
    "    return output_vector\n",
    "            "
   ]
  },
  {
   "cell_type": "code",
   "execution_count": 93,
   "metadata": {
    "collapsed": false
   },
   "outputs": [],
   "source": [
    "bipolar_train = convertPatternToBipolarVectors(train_patterns)\n",
    "bipolar_train_label = convertLabelToBipolar(train_labels)"
   ]
  },
  {
   "cell_type": "code",
   "execution_count": 94,
   "metadata": {
    "collapsed": true
   },
   "outputs": [],
   "source": [
    "bipolar_test = convertPatternToBipolarVectors(test_patterns)"
   ]
  },
  {
   "cell_type": "code",
   "execution_count": 54,
   "metadata": {
    "collapsed": false
   },
   "outputs": [
    {
     "data": {
      "text/plain": [
       "[[-1, 1, 1, 1, -1, -1, 1, -1, -1, 1, -1, -1, -1, 1, 1]]"
      ]
     },
     "execution_count": 54,
     "metadata": {},
     "output_type": "execute_result"
    }
   ],
   "source": [
    "bipolar_test\n",
    "                                      "
   ]
  },
  {
   "cell_type": "code",
   "execution_count": 95,
   "metadata": {
    "collapsed": false
   },
   "outputs": [],
   "source": [
    "def flipPixelByKElements(pattern,numOfElements):\n",
    "    L = len(pattern)  \n",
    "    image = pattern.copy()\n",
    "    listOfPatterns = []\n",
    "    corrupted_image =list()\n",
    "    for i in range (0,L-1):\n",
    "        image = pattern.copy()\n",
    "        k = numOfElements\n",
    "        c=i\n",
    "        while k > 0:\n",
    "                if image[c] == 1:\n",
    "                    image[c] = -1\n",
    "                elif image[c] == -1:\n",
    "                    image[c] = 1\n",
    "                if c >= L-1:\n",
    "                    c=0\n",
    "                \n",
    "                c = c+1\n",
    "                k = k-1\n",
    "        corrupted_image = image\n",
    "        listOfPatterns.append(corrupted_image)\n",
    "     \n",
    "    return listOfPatterns         \n",
    "                \n",
    "                \n",
    "            \n",
    "        \n",
    "    "
   ]
  },
  {
   "cell_type": "code",
   "execution_count": 96,
   "metadata": {
    "collapsed": false
   },
   "outputs": [],
   "source": [
    "bipolar_testset = flipPixelByKElements(bipolar_test[0],2)"
   ]
  },
  {
   "cell_type": "code",
   "execution_count": 14,
   "metadata": {
    "collapsed": false
   },
   "outputs": [
    {
     "data": {
      "text/plain": [
       "[['B', 1, 1, 1, -1, -1, 1, -1, -1, 1, -1, -1, -1, 1, 1]]"
      ]
     },
     "execution_count": 14,
     "metadata": {},
     "output_type": "execute_result"
    }
   ],
   "source": [
    "[-1, 1, 1, 1, -1, -1, 1, -1, -1, 1, -1, -1, -1, 1, 1]"
   ]
  },
  {
   "cell_type": "code",
   "execution_count": null,
   "metadata": {
    "collapsed": true
   },
   "outputs": [],
   "source": [
    "\n",
    "[[-1, 1, 1, 1, -1, -1, 1, -1, -1, 1, -1, -1, -1, 1, 1]]"
   ]
  },
  {
   "cell_type": "code",
   "execution_count": 97,
   "metadata": {
    "collapsed": true
   },
   "outputs": [],
   "source": [
    "def convertTrainToNumpyArray(data,labels):\n",
    "    images = np.array(data)\n",
    "    dim = labels[0]\n",
    "    t = np.array(labels).reshape(-1,dim)\n",
    "    return images,t\n",
    "\n",
    "def convertTestToNumpyArray(data):\n",
    "    images = np.array(data)\n",
    "    return images\n"
   ]
  },
  {
   "cell_type": "code",
   "execution_count": 98,
   "metadata": {
    "collapsed": false
   },
   "outputs": [],
   "source": [
    "patterns_train,t = convertTrainToNumpyArray(bipolar_train,bipolar_train_label)"
   ]
  },
  {
   "cell_type": "code",
   "execution_count": 99,
   "metadata": {
    "collapsed": false
   },
   "outputs": [
    {
     "name": "stdout",
     "output_type": "stream",
     "text": [
      "Training Images dimensions (2, 15)\n",
      "Training Labels dimensions (2, 1)\n"
     ]
    }
   ],
   "source": [
    "print('Training Images dimensions',patterns_train.shape)\n",
    "print('Training Labels dimensions',t.shape)"
   ]
  },
  {
   "cell_type": "code",
   "execution_count": 100,
   "metadata": {
    "collapsed": false
   },
   "outputs": [],
   "source": [
    "patterns_test = convertTestToNumpyArray(bipolar_testset)"
   ]
  },
  {
   "cell_type": "code",
   "execution_count": 101,
   "metadata": {
    "collapsed": false
   },
   "outputs": [
    {
     "name": "stdout",
     "output_type": "stream",
     "text": [
      "Testing Images dimensions (14, 15)\n"
     ]
    }
   ],
   "source": [
    "print('Testing Images dimensions',patterns_test.shape)\n",
    "\n",
    "     "
   ]
  },
  {
   "cell_type": "markdown",
   "metadata": {},
   "source": [
    "<b>Define the dimensions for a two layered  Neural Network Perceptron Model</b>"
   ]
  },
  {
   "cell_type": "code",
   "execution_count": 102,
   "metadata": {
    "collapsed": false
   },
   "outputs": [],
   "source": [
    "\n",
    "dimensions = [patterns_train.shape[1],t.shape[1]]\n",
    "parameters = {}\n"
   ]
  },
  {
   "cell_type": "markdown",
   "metadata": {},
   "source": [
    "<b>Define the Neural Network</b>"
   ]
  },
  {
   "cell_type": "code",
   "execution_count": 103,
   "metadata": {
    "collapsed": false
   },
   "outputs": [],
   "source": [
    "class NeuralNetwork:\n",
    "    def __init__(self,dimensions):\n",
    "        self.parameters = parameters\n",
    "        \n",
    "        print('...Initializing Parameters for the model...')\n",
    "        parameters[\"W\"] = np.zeros([dimensions[0],dimensions[1]])\n",
    "        parameters[\"b\"] = np.zeros([dimensions[1],1])\n",
    "        \n",
    "        #print('Weight Matrix defined as {}'.format(parameters[\"W\"].shape))\n",
    "        #print('Bias Vector defined as {}'.format(parameters[\"b\"].shape))\n",
    "        \n",
    "    def affineForward(self,X,W,b):\n",
    "        print('.....Staring affineForward.....')\n",
    "        yin = np.dot(X,W) + b      \n",
    "        print(yin)\n",
    "        return yin\n",
    "    \n",
    "    def feedForwardPropagation(self,X):\n",
    "        print('....Start FeedForwardPropagation....')\n",
    "        \n",
    "        W = self.parameters[\"W\"]\n",
    "        b = self.parameters[\"b\"]\n",
    "        yin = self.affineForward(X,W,b)\n",
    "        \n",
    "        print ('Shape of output {}'.format(yin.shape))\n",
    "        return yin\n",
    "    \n",
    "    def backwardPropagation(self,t,S):\n",
    "        print('....Starting backpropagation.....')\n",
    "        dw = np.dot(S.T,t)\n",
    "        db = np.sum(t,axis=0).reshape(1,-1)\n",
    "        print('dw')\n",
    "        print(dw)\n",
    "        print('db')\n",
    "        print(db)\n",
    "        print('Delta W:{}'.format(dw.shape))\n",
    "        print('Delta b:{}'.format(db.shape))\n",
    "        return dw,db\n",
    "    \n",
    "    def updateParameters(self,dw,db):\n",
    "        print('....Updating Weight and bias.....')\n",
    "        parameters = self.parameters\n",
    "        \n",
    "        parameters[\"W\"] = np.add(parameters[\"W\"],dw)\n",
    "        parameters[\"b\"] = np.add(parameters[\"b\"],db)\n",
    "        \n",
    "        print(\"W\")\n",
    "        print(parameters[\"W\"])\n",
    "        print(\"b\")\n",
    "        print(parameters[\"b\"])\n",
    "        \n",
    "        \n",
    "    def train(self,X,t,numOfIterations):\n",
    "        S = X\n",
    "        y = t\n",
    "        print('......Training Data Model......')\n",
    "        for i in range(1,numOfIterations):\n",
    "            print('Starting iteration {}*********'.format(i))\n",
    "            yin = self.feedForwardPropagation(X)\n",
    "            dw,db = self.backwardPropagation(y,S)\n",
    "            self.updateParameters(dw,db)\n",
    "        \n",
    "        print('...Training ends here....')\n",
    "        \n",
    "     \n",
    "    def predict(self,X):\n",
    "        t = self.feedForwardPropagation(X)\n",
    "        return t\n",
    "    "
   ]
  },
  {
   "cell_type": "markdown",
   "metadata": {},
   "source": [
    "<b> Train Model </b>"
   ]
  },
  {
   "cell_type": "code",
   "execution_count": 104,
   "metadata": {
    "collapsed": false
   },
   "outputs": [
    {
     "name": "stdout",
     "output_type": "stream",
     "text": [
      "...Initializing Parameters for the model...\n"
     ]
    }
   ],
   "source": [
    "model = NeuralNetwork(dimensions)\n"
   ]
  },
  {
   "cell_type": "code",
   "execution_count": 105,
   "metadata": {
    "collapsed": false
   },
   "outputs": [
    {
     "name": "stdout",
     "output_type": "stream",
     "text": [
      "......Training Data Model......\n",
      "Starting iteration 1*********\n",
      "....Start FeedForwardPropagation....\n",
      ".....Staring affineForward.....\n",
      "[[0.]\n",
      " [0.]]\n",
      "Shape of output (2, 1)\n",
      "....Starting backpropagation.....\n",
      "dw\n",
      "[[-2]\n",
      " [ 2]\n",
      " [ 0]\n",
      " [ 0]\n",
      " [ 0]\n",
      " [-2]\n",
      " [ 2]\n",
      " [-2]\n",
      " [ 0]\n",
      " [ 0]\n",
      " [ 0]\n",
      " [-2]\n",
      " [-2]\n",
      " [ 2]\n",
      " [ 0]]\n",
      "db\n",
      "[[0]]\n",
      "Delta W:(15, 1)\n",
      "Delta b:(1, 1)\n",
      "....Updating Weight and bias.....\n",
      "W\n",
      "[[-2.]\n",
      " [ 2.]\n",
      " [ 0.]\n",
      " [ 0.]\n",
      " [ 0.]\n",
      " [-2.]\n",
      " [ 2.]\n",
      " [-2.]\n",
      " [ 0.]\n",
      " [ 0.]\n",
      " [ 0.]\n",
      " [-2.]\n",
      " [-2.]\n",
      " [ 2.]\n",
      " [ 0.]]\n",
      "b\n",
      "[[0.]]\n",
      "Starting iteration 2*********\n",
      "....Start FeedForwardPropagation....\n",
      ".....Staring affineForward.....\n",
      "[[ 16.]\n",
      " [-16.]]\n",
      "Shape of output (2, 1)\n",
      "....Starting backpropagation.....\n",
      "dw\n",
      "[[-2]\n",
      " [ 2]\n",
      " [ 0]\n",
      " [ 0]\n",
      " [ 0]\n",
      " [-2]\n",
      " [ 2]\n",
      " [-2]\n",
      " [ 0]\n",
      " [ 0]\n",
      " [ 0]\n",
      " [-2]\n",
      " [-2]\n",
      " [ 2]\n",
      " [ 0]]\n",
      "db\n",
      "[[0]]\n",
      "Delta W:(15, 1)\n",
      "Delta b:(1, 1)\n",
      "....Updating Weight and bias.....\n",
      "W\n",
      "[[-4.]\n",
      " [ 4.]\n",
      " [ 0.]\n",
      " [ 0.]\n",
      " [ 0.]\n",
      " [-4.]\n",
      " [ 4.]\n",
      " [-4.]\n",
      " [ 0.]\n",
      " [ 0.]\n",
      " [ 0.]\n",
      " [-4.]\n",
      " [-4.]\n",
      " [ 4.]\n",
      " [ 0.]]\n",
      "b\n",
      "[[0.]]\n",
      "...Training ends here....\n"
     ]
    }
   ],
   "source": [
    "model.train(patterns_train,t,3)"
   ]
  },
  {
   "cell_type": "markdown",
   "metadata": {},
   "source": [
    "<b>Make Predictions </b>"
   ]
  },
  {
   "cell_type": "code",
   "execution_count": 106,
   "metadata": {
    "collapsed": false
   },
   "outputs": [
    {
     "name": "stdout",
     "output_type": "stream",
     "text": [
      "....Start FeedForwardPropagation....\n",
      ".....Staring affineForward.....\n",
      "[[16.]\n",
      " [24.]\n",
      " [32.]\n",
      " [32.]\n",
      " [24.]\n",
      " [16.]\n",
      " [16.]\n",
      " [24.]\n",
      " [32.]\n",
      " [32.]\n",
      " [24.]\n",
      " [16.]\n",
      " [16.]\n",
      " [24.]]\n",
      "Shape of output (14, 1)\n"
     ]
    }
   ],
   "source": [
    "t_pred = model.predict(patterns_test)"
   ]
  },
  {
   "cell_type": "code",
   "execution_count": null,
   "metadata": {
    "collapsed": false
   },
   "outputs": [],
   "source": [
    "t_pred"
   ]
  },
  {
   "cell_type": "code",
   "execution_count": null,
   "metadata": {
    "collapsed": true
   },
   "outputs": [],
   "source": [
    "t_pred = list(t_pred)"
   ]
  },
  {
   "cell_type": "code",
   "execution_count": null,
   "metadata": {
    "collapsed": false
   },
   "outputs": [],
   "source": [
    "output = [ v for v in t_pred if v > 0]"
   ]
  },
  {
   "cell_type": "code",
   "execution_count": null,
   "metadata": {
    "collapsed": false
   },
   "outputs": [],
   "source": [
    "output"
   ]
  }
 ],
 "metadata": {
  "kernelspec": {
   "display_name": "Python 3",
   "language": "python",
   "name": "python3"
  }
 },
 "nbformat": 4,
 "nbformat_minor": 2
}
