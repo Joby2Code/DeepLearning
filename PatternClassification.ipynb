{
 "cells": [
  {
   "cell_type": "markdown",
   "metadata": {
    "deletable": true,
    "editable": true
   },
   "source": [
    "<h3> A Neural Network Implementation for Pattern Classification using Hebb's rule </h3>"
   ]
  },
  {
   "cell_type": "markdown",
   "metadata": {
    "deletable": true,
    "editable": true
   },
   "source": [
    "<b>Reading input images </b>"
   ]
  },
  {
   "cell_type": "code",
   "execution_count": 943,
   "metadata": {
    "collapsed": true,
    "deletable": true,
    "editable": true
   },
   "outputs": [],
   "source": [
    "import numpy as np\n",
    "import os\n",
    "import copy"
   ]
  },
  {
   "cell_type": "markdown",
   "metadata": {},
   "source": [
    "<b>File read operations</b>"
   ]
  },
  {
   "cell_type": "code",
   "execution_count": 944,
   "metadata": {
    "collapsed": true,
    "deletable": true,
    "editable": true
   },
   "outputs": [],
   "source": [
    "filePath = \"./pattern_data/\""
   ]
  },
  {
   "cell_type": "code",
   "execution_count": 945,
   "metadata": {
    "collapsed": false,
    "deletable": true,
    "editable": true
   },
   "outputs": [],
   "source": [
    "def read_file(fileName,read_type=\"col_wise\"):\n",
    "    file = os.path.join(filePath,fileName)\n",
    "    print('Quering file {}'.format(file))\n",
    "    \n",
    "    if read_type == \"row_wise\":\n",
    "        pattern, labels,pixel= _read_file_row_wise(file)\n",
    "    else:\n",
    "        pattern, labels,pixel= _read_file_col_wise(file)\n",
    "            \n",
    "    print('..Completed processing file {}...'.format(read_type))\n",
    "    return pattern, labels\n",
    "    \n",
    "    \n",
    "    \n",
    "    "
   ]
  },
  {
   "cell_type": "code",
   "execution_count": 946,
   "metadata": {
    "collapsed": true,
    "deletable": true,
    "editable": true
   },
   "outputs": [],
   "source": [
    "def _read_file_row_wise(file):\n",
    "    \n",
    "    pattern, labels,pixel =[],[],[];\n",
    "   \n",
    "    \n",
    "    with open(file,\"r\") as f:\n",
    "        lines = f.read().splitlines()\n",
    "        for line in lines:\n",
    "            for ch in line:\n",
    "                if ch == \"#\" or ch == \".\":\n",
    "                    pixel.append(ch)\n",
    "                elif ch ==\",\":\n",
    "                    pattern.append(pixel)\n",
    "                    pixel=[]\n",
    "                elif ch == 'X' or ch == 'C':\n",
    "                    labels.append(ch)\n",
    "                else:\n",
    "                    pixel.append('0')\n",
    "            \n",
    "           \n",
    "    return pattern, labels,pixel"
   ]
  },
  {
   "cell_type": "code",
   "execution_count": 947,
   "metadata": {
    "collapsed": false
   },
   "outputs": [],
   "source": [
    "def _read_file_col_wise(file):\n",
    "    \"\"\"\n",
    "    Routine to read the data columnwise from the file\n",
    "    \"\"\"\n",
    "    pattern, labels,pixel =[],[],[];\n",
    "    \n",
    "    lists_by_line = [];\n",
    "    with open(file,\"r\") as f:\n",
    "        lines = f.read().splitlines()\n",
    "        for line in lines:\n",
    "            for ch in line:\n",
    "                if ch == \"#\" or ch == \".\":\n",
    "                    pixel.append(ch)\n",
    "                elif ch ==\",\":\n",
    "                    lists_by_line.append(copy.copy(pixel))\n",
    "                    pattern.append(copy.copy(lists_by_line))\n",
    "                    pixel.clear()\n",
    "                    lists_by_line.clear()\n",
    "                elif ch == 'X' or ch == 'C':\n",
    "                    labels.append(ch)\n",
    "                else:\n",
    "                    pixel.append('0')\n",
    "                    \n",
    "            if(len(pixel) > 0):\n",
    "                lists_by_line.append(copy.copy(pixel))\n",
    "                pixel.clear()\n",
    "            \n",
    "        \n",
    "        \n",
    "    pattern_row_list = []\n",
    "    L = len(pattern)\n",
    "    \n",
    "    for i in range(0,L):\n",
    "        pattern_row_list.append(_convert_to_row_vector(pattern[i]))\n",
    "   \n",
    "    return pattern_row_list,labels,pixel"
   ]
  },
  {
   "cell_type": "code",
   "execution_count": 948,
   "metadata": {
    "collapsed": false
   },
   "outputs": [],
   "source": [
    "def _convert_to_row_vector(pattern):\n",
    "    L = len(pattern)\n",
    "    \n",
    "    sub_len = len(pattern[0])\n",
    "    row_vector=[]\n",
    "    row_vector.clear()\n",
    "    for j in range(0,sub_len):\n",
    "        i = 0\n",
    "        while i < L:\n",
    "            row_vector.append(pattern[i][j])\n",
    "            i = i+1;\n",
    "    \n",
    "    return row_vector"
   ]
  },
  {
   "cell_type": "code",
   "execution_count": 949,
   "metadata": {
    "collapsed": false,
    "deletable": true,
    "editable": true
   },
   "outputs": [
    {
     "name": "stdout",
     "output_type": "stream",
     "text": [
      "Quering file ./pattern_data/training_data.txt\n",
      "..Completed processing file col_wise...\n"
     ]
    }
   ],
   "source": [
    "train_patterns,train_labels = read_file(fileName=\"training_data.txt\",read_type=\"col_wise\")"
   ]
  },
  {
   "cell_type": "code",
   "execution_count": 962,
   "metadata": {
    "collapsed": false,
    "deletable": true,
    "editable": true
   },
   "outputs": [
    {
     "name": "stdout",
     "output_type": "stream",
     "text": [
      "Quering file ./pattern_data/test_data.txt\n",
      "..Completed processing file col_wise...\n"
     ]
    }
   ],
   "source": [
    "test_patterns,test_labels = read_file(fileName=\"test_data.txt\",read_type=\"col_wise\")\n"
   ]
  },
  {
   "cell_type": "markdown",
   "metadata": {},
   "source": [
    "<b> Convert to Numpy Array </b>"
   ]
  },
  {
   "cell_type": "code",
   "execution_count": 951,
   "metadata": {
    "collapsed": false,
    "deletable": true,
    "editable": true
   },
   "outputs": [],
   "source": [
    "def convertPatternToBipolarVectors(patterns):\n",
    "    input_vector,image = [],[];\n",
    "    for pattern in patterns:\n",
    "        for  ch in pattern:\n",
    "            if ch == \"#\":\n",
    "                image.append(1)\n",
    "            elif ch == \".\":\n",
    "                image.append(-1)\n",
    "            else:\n",
    "                image.append(0)\n",
    "                \n",
    "        input_vector.append(image)\n",
    "        image=[]\n",
    "        \n",
    "    return input_vector\n",
    "\n",
    "def convertLabelToBipolar(labels):\n",
    "    output_vector =[];\n",
    "    \n",
    "    for ch in labels:\n",
    "        if ch == \"C\":\n",
    "            output_vector.append(1)\n",
    "        elif ch==\"X\":\n",
    "            output_vector.append(-1)\n",
    "        else:\n",
    "            output_vector.append(0)\n",
    "            \n",
    "    return output_vector\n",
    "            "
   ]
  },
  {
   "cell_type": "markdown",
   "metadata": {},
   "source": [
    "<b> Proccesing Training Data </b>"
   ]
  },
  {
   "cell_type": "code",
   "execution_count": 952,
   "metadata": {
    "collapsed": false,
    "deletable": true,
    "editable": true
   },
   "outputs": [
    {
     "data": {
      "text/plain": [
       "([[-1, 1, 1, 1, -1, 1, -1, -1, -1, 1, 1, -1, -1, -1, 1],\n",
       "  [1, 1, -1, 1, 1, -1, -1, 1, -1, -1, 1, 1, -1, 1, 1]],\n",
       " [1, -1])"
      ]
     },
     "execution_count": 952,
     "metadata": {},
     "output_type": "execute_result"
    }
   ],
   "source": [
    "bipolar_train = convertPatternToBipolarVectors(train_patterns)\n",
    "bipolar_train_label = convertLabelToBipolar(train_labels)\n",
    "bipolar_train,bipolar_train_label"
   ]
  },
  {
   "cell_type": "code",
   "execution_count": 953,
   "metadata": {
    "collapsed": true
   },
   "outputs": [],
   "source": [
    "def convertTrainToNumpyArray(data,labels):\n",
    "    images = np.array(data)\n",
    "    dim = labels[0]\n",
    "    t = np.array(labels).reshape(-1,dim)\n",
    "    return images,t"
   ]
  },
  {
   "cell_type": "code",
   "execution_count": 954,
   "metadata": {
    "collapsed": true
   },
   "outputs": [],
   "source": [
    "patterns_train,t = convertTrainToNumpyArray(bipolar_train,bipolar_train_label)"
   ]
  },
  {
   "cell_type": "code",
   "execution_count": 955,
   "metadata": {
    "collapsed": false,
    "deletable": true,
    "editable": true
   },
   "outputs": [
    {
     "name": "stdout",
     "output_type": "stream",
     "text": [
      "Training Images dimensions (2, 15)\n",
      "Training Labels dimensions (2, 1)\n"
     ]
    }
   ],
   "source": [
    "bipolar_test = convertPatternToBipolarVectors(test_patterns)\n",
    "print('Training Images dimensions',patterns_train.shape)\n",
    "print('Training Labels dimensions',t.shape)"
   ]
  },
  {
   "cell_type": "markdown",
   "metadata": {},
   "source": [
    "<b> Processing Test Data </b>"
   ]
  },
  {
   "cell_type": "code",
   "execution_count": 1308,
   "metadata": {
    "collapsed": false,
    "deletable": true,
    "editable": true
   },
   "outputs": [
    {
     "name": "stdout",
     "output_type": "stream",
     "text": [
      "C: [-1, 1, 1, 1, -1, 1, -1, -1, -1, 1, 1, -1, -1, -1, 1]\n",
      " X :[1, 1, -1, 1, 1, -1, -1, 1, -1, -1, 1, 1, -1, 1, 1]\n"
     ]
    }
   ],
   "source": [
    "test_patternC = bipolar_test[0]\n",
    "test_patternX = bipolar_test[1]\n",
    "print(\"C: {}\\n X :{}\".format(test_patternC,test_patternX))                                      "
   ]
  },
  {
   "cell_type": "code",
   "execution_count": 740,
   "metadata": {
    "collapsed": true
   },
   "outputs": [],
   "source": [
    "def convertTestToNumpyArray(data):\n",
    "    images = np.array(data)\n",
    "    return images"
   ]
  },
  {
   "cell_type": "markdown",
   "metadata": {},
   "source": [
    "<h3> Flip Test Patterns by K pixels: Valid Training Data </h3>"
   ]
  },
  {
   "cell_type": "markdown",
   "metadata": {},
   "source": [
    "<b>Recursive Inplementation of k flips for valid character array</b>"
   ]
  },
  {
   "cell_type": "code",
   "execution_count": 963,
   "metadata": {
    "collapsed": true
   },
   "outputs": [],
   "source": [
    "def combinationsByKFlip(vector,start,k,end,combination_list,result_list):\n",
    "    if vector not in combination_list:\n",
    "        combination_list.insert(start,vector)\n",
    "        \n",
    "    \n",
    "    if k == 0:\n",
    "        result_list.append(vector)\n",
    "        return result_list\n",
    "    \n",
    "    for i in range(start,end):\n",
    "        vector = _flipElement(vector,i)\n",
    "        combinationsByKFlip(vector,i+1,k-1,end,combination_list,result_list)\n",
    "        vector =  combination_list[start]\n",
    "   \n",
    "    return result_list\n",
    "\n",
    "\n",
    "def _flipElement(vector,i):\n",
    "    vectorCopy = copy.copy(vector)\n",
    "    if vector[i] == 1:\n",
    "        vectorCopy[i] = -1\n",
    "    elif vector[i] == -1:\n",
    "        vectorCopy[i] = 1\n",
    "    elif vector[i] == 0:\n",
    "        vectorCopy[i] = 0\n",
    "    return vectorCopy"
   ]
  },
  {
   "cell_type": "markdown",
   "metadata": {},
   "source": [
    "<b>Test for Pattern C </b>"
   ]
  },
  {
   "cell_type": "code",
   "execution_count": 1315,
   "metadata": {
    "collapsed": false
   },
   "outputs": [],
   "source": [
    "combination_list=[]\n",
    "result_list = []\n",
    "start = 0\n",
    "length = len(vector)\n",
    "k_flipped = 15\n",
    "vector = test_patternX\n"
   ]
  },
  {
   "cell_type": "code",
   "execution_count": 1220,
   "metadata": {
    "collapsed": false
   },
   "outputs": [
    {
     "name": "stdout",
     "output_type": "stream",
     "text": [
      "Total Test Data by flipping 15 elements are 1\n"
     ]
    }
   ],
   "source": [
    "\n",
    "flippedPatterns_test_set = combinationsByKFlip(vector,start,k_flipped,length,combination_list,result_list)\n",
    "combination_list.clear()\n",
    "print(\"Total Test Data by flipping {1} elements are {0}\".format(len(flippedPatterns_test_set),k_flipped))\n",
    "patterns_flipped_test= convertTestToNumpyArray(flippedPatterns_test_set)"
   ]
  },
  {
   "cell_type": "markdown",
   "metadata": {},
   "source": [
    "<h3>To Create Corrupted Data </h3>\n",
    "<b>Generate combinations for corrupted training data</b>"
   ]
  },
  {
   "cell_type": "code",
   "execution_count": 828,
   "metadata": {
    "collapsed": true
   },
   "outputs": [],
   "source": [
    "\n",
    "def getCombinationsForUndetermined(pattern,path,index,misclassifiedLength):\n",
    "    if misclassifiedLength == 0:\n",
    "        temp =copy.deepcopy(path)\n",
    "        combinations.append(temp)\n",
    "        return\n",
    "    for i in range(index,15):\n",
    "        path.append(i)\n",
    "        getCombinationsForUndetermined(pattern,path,i+1,misclassifiedLength-1)\n",
    "        path.pop()\n",
    "\n",
    "\n",
    "def undeterminedFlipping(combinationIndex,pattern):\n",
    "    for i in range(len(combinationIndex)):\n",
    "        temp2 = copy.deepcopy(pattern)\n",
    "        for j in range(len(combinationIndex[i])):\n",
    "            num = 0*temp2.item(combinationIndex[i][j])\n",
    "            temp2.itemset(combinationIndex[i][j],num)\n",
    "            undeterminedPatterns.append(temp2)"
   ]
  },
  {
   "cell_type": "code",
   "execution_count": 1309,
   "metadata": {
    "collapsed": false
   },
   "outputs": [
    {
     "data": {
      "text/plain": [
       "1"
      ]
     },
     "execution_count": 1309,
     "metadata": {},
     "output_type": "execute_result"
    }
   ],
   "source": [
    "test_patternX = convertTestToNumpyArray(test_patternX)\n",
    "vector = test_patternX\n",
    "k_undetermined = 15\n",
    "combinations=[]\n",
    "combinations.clear()\n",
    "undeterminedPatterns=[]\n",
    "\n",
    "getCombinationsForUndetermined(vector,[],0,k_undetermined)\n",
    "undeterminedPatterns.clear()\n",
    "len(combinations)\n"
   ]
  },
  {
   "cell_type": "code",
   "execution_count": 1310,
   "metadata": {
    "collapsed": false
   },
   "outputs": [
    {
     "name": "stdout",
     "output_type": "stream",
     "text": [
      "Total Corrupted Test Data by using  15 undetermined elements are 15\n"
     ]
    }
   ],
   "source": [
    "\n",
    "undeterminedFlipping(combinations,vector)\n",
    "print(\"Total Corrupted Test Data by using  {1} undetermined elements are {0}\".format(len(undeterminedPatterns),k_undetermined))\n"
   ]
  },
  {
   "cell_type": "code",
   "execution_count": 1311,
   "metadata": {
    "collapsed": false
   },
   "outputs": [],
   "source": [
    "undeterminedPatterns = convertTestToNumpyArray(undeterminedPatterns)\n"
   ]
  },
  {
   "cell_type": "code",
   "execution_count": 814,
   "metadata": {
    "collapsed": false
   },
   "outputs": [
    {
     "name": "stdout",
     "output_type": "stream",
     "text": [
      "Datatype of complete training data.....\n",
      "Test Pattern: <class 'numpy.ndarray'> \n",
      "Flipped Pattern Test Data type: <class 'numpy.ndarray'> \n",
      "Corrupted Test Data type: <class 'numpy.ndarray'>\n"
     ]
    }
   ],
   "source": [
    "print(\"Datatype of complete training data.....\")\n",
    "print(\"Test Pattern: {0} \\nFlipped Pattern Test Data type: {1} \\nCorrupted Test Data type: {2}\".format(type(test_patternC),type(patterns_flipped_test),type(undeterminedPatterns)))"
   ]
  },
  {
   "cell_type": "code",
   "execution_count": 713,
   "metadata": {
    "collapsed": false
   },
   "outputs": [
    {
     "name": "stdout",
     "output_type": "stream",
     "text": [
      "Pattern :[-1, 1, 1, 1, -1, 1, -1, -1, -1, 1, 1, -1, -1, -1, 1] \n",
      "Flipped Patterns: [[ 1 -1 -1 -1  1 -1 -1 -1 -1  1  1 -1 -1 -1  1]\n",
      " [ 1 -1 -1 -1  1  1  1 -1 -1  1  1 -1 -1 -1  1]]\n",
      "Undermined Patterns:[[ 0  1  1  1 -1  1 -1 -1 -1  1  1 -1 -1 -1  1]\n",
      " [-1  0  1  1 -1  1 -1 -1 -1  1  1 -1 -1 -1  1]]\n"
     ]
    }
   ],
   "source": [
    "print(\"Pattern :{} \\nFlipped Patterns: {}\\nUndermined Patterns:{}\".format(test_patternC,patterns_flipped_test[0:2],undeterminedPatterns[0:2]))"
   ]
  },
  {
   "cell_type": "markdown",
   "metadata": {},
   "source": [
    "<b>Convert Test Data Combinations to Numpy Array</b>"
   ]
  },
  {
   "cell_type": "code",
   "execution_count": 847,
   "metadata": {
    "collapsed": false
   },
   "outputs": [
    {
     "name": "stdout",
     "output_type": "stream",
     "text": [
      "Train Data Dimenions......\n",
      "Pattern :(15,) \n",
      "Flipped Patterns: (1365, 15)\n",
      "Undermined Patterns:(1365, 15)\n"
     ]
    }
   ],
   "source": [
    "print(\"Train Data Dimenions......\")\n",
    "print(\"Pattern :{} \\nFlipped Patterns: {}\\nUndermined Patterns:{}\".format(test_patternC.shape,patterns_flipped_test.shape,undeterminedPatterns.shape))"
   ]
  },
  {
   "cell_type": "markdown",
   "metadata": {},
   "source": [
    "<h3> Neural Network Implementation using Hebb's Rule </h3>"
   ]
  },
  {
   "cell_type": "markdown",
   "metadata": {
    "deletable": true,
    "editable": true
   },
   "source": [
    "<b>Define the dimensions for a two layered  Neural Network Perceptron Model</b>"
   ]
  },
  {
   "cell_type": "code",
   "execution_count": 956,
   "metadata": {
    "collapsed": false,
    "deletable": true,
    "editable": true
   },
   "outputs": [],
   "source": [
    "\n",
    "dimensions = [patterns_train.shape[1],t.shape[1]]\n",
    "parameters = {}\n"
   ]
  },
  {
   "cell_type": "markdown",
   "metadata": {
    "deletable": true,
    "editable": true
   },
   "source": [
    "<b>Define the Neural Network</b>"
   ]
  },
  {
   "cell_type": "code",
   "execution_count": 1328,
   "metadata": {
    "collapsed": false,
    "deletable": true,
    "editable": true
   },
   "outputs": [],
   "source": [
    "class NeuralNetwork:\n",
    "    def __init__(self,dimensions):\n",
    "        self.parameters = parameters\n",
    "        \n",
    "        print('...Initializing Parameters for the model...')\n",
    "        parameters[\"W\"] = np.zeros([dimensions[0],dimensions[1]])\n",
    "        parameters[\"b\"] = np.zeros([dimensions[1],1])\n",
    "        \n",
    "        print('Weight Matrix defined as {}'.format(parameters[\"W\"].shape))\n",
    "        print('Bias Vector defined as {}'.format(parameters[\"b\"].shape))\n",
    "        \n",
    "    def affineForward(self,X,W,b):\n",
    "        print('.....Staring affineForward.....')\n",
    "        yin = np.dot(X,W) + b      \n",
    "        #print(yin)\n",
    "        return yin\n",
    "    \n",
    "    def feedForwardPropagation(self,X):\n",
    "        print('....Start FeedForwardPropagation....')\n",
    "        \n",
    "        W = self.parameters[\"W\"]\n",
    "        b = self.parameters[\"b\"]\n",
    "        yin = self.affineForward(X,W,b)\n",
    "        \n",
    "       # print ('Shape of output {}'.format(yin.shape))\n",
    "        return yin\n",
    "    \n",
    "    def computeGradient(self,t,S):\n",
    "        print('....Computing Gradients.....')\n",
    "        dw = np.dot(S.T,t)\n",
    "        db = np.sum(t,axis=0).reshape(1,-1)\n",
    "        \n",
    "        #print('Delta W:{}'.format(dw.shape))\n",
    "        #print('Delta b:{}'.format(db.shape))\n",
    "        return dw,db\n",
    "    \n",
    "    def updateParameters(self,dw,db):\n",
    "        print('....Updating Weight and bias.....')\n",
    "        parameters = self.parameters\n",
    "        \n",
    "        parameters[\"W\"] = np.add(parameters[\"W\"],dw)\n",
    "        parameters[\"b\"] = np.add(parameters[\"b\"],db)\n",
    "        \n",
    "        #print(\"W\")\n",
    "        #print(parameters[\"W\"])\n",
    "        #print(\"b\")\n",
    "        #print(parameters[\"b\"])\n",
    "    \n",
    "    def activation_unit(self,x):\n",
    "        theta = 0;\n",
    "        x[x > theta] = 1\n",
    "        x[x < theta] = -1\n",
    "        x[x == 0] = 0\n",
    "        return x\n",
    "        \n",
    "    def train(self,X,t,numOfIterations):\n",
    "        S = X\n",
    "        y = t\n",
    "        print('......Training Data Model......')\n",
    "        for i in range(1,numOfIterations):\n",
    "            print('Starting iteration {}*********'.format(i))\n",
    "            yin = self.feedForwardPropagation(X)\n",
    "            dw,db = self.computeGradient(y,S)\n",
    "            self.updateParameters(dw,db)\n",
    "        \n",
    "        print('...Training ends here....')\n",
    "        \n",
    "     \n",
    "    def predict(self,X):\n",
    "        t = self.feedForwardPropagation(X)\n",
    "        t = self.activation_unit(t)\n",
    "        return t\n",
    "    "
   ]
  },
  {
   "cell_type": "markdown",
   "metadata": {
    "deletable": true,
    "editable": true
   },
   "source": [
    "<b> Train Model </b>"
   ]
  },
  {
   "cell_type": "code",
   "execution_count": 1329,
   "metadata": {
    "collapsed": false,
    "deletable": true,
    "editable": true
   },
   "outputs": [
    {
     "name": "stdout",
     "output_type": "stream",
     "text": [
      "...Initializing Parameters for the model...\n",
      "Weight Matrix defined as (15, 1)\n",
      "Bias Vector defined as (1, 1)\n"
     ]
    }
   ],
   "source": [
    "model = NeuralNetwork(dimensions)\n"
   ]
  },
  {
   "cell_type": "code",
   "execution_count": 1330,
   "metadata": {
    "collapsed": false,
    "deletable": true,
    "editable": true
   },
   "outputs": [
    {
     "name": "stdout",
     "output_type": "stream",
     "text": [
      "......Training Data Model......\n",
      "Starting iteration 1*********\n",
      "....Start FeedForwardPropagation....\n",
      ".....Staring affineForward.....\n",
      "....Computing Gradients.....\n",
      "....Updating Weight and bias.....\n",
      "Starting iteration 2*********\n",
      "....Start FeedForwardPropagation....\n",
      ".....Staring affineForward.....\n",
      "....Computing Gradients.....\n",
      "....Updating Weight and bias.....\n",
      "...Training ends here....\n"
     ]
    }
   ],
   "source": [
    "model.train(patterns_train,t,3)"
   ]
  },
  {
   "cell_type": "markdown",
   "metadata": {
    "deletable": true,
    "editable": true
   },
   "source": [
    "<b>Validation of Training Dataset </b>"
   ]
  },
  {
   "cell_type": "code",
   "execution_count": 1331,
   "metadata": {
    "collapsed": false,
    "deletable": true,
    "editable": true
   },
   "outputs": [
    {
     "name": "stdout",
     "output_type": "stream",
     "text": [
      "....Start FeedForwardPropagation....\n",
      ".....Staring affineForward.....\n"
     ]
    }
   ],
   "source": [
    "\n",
    "y_train = model.predict(patterns_train)"
   ]
  },
  {
   "cell_type": "code",
   "execution_count": 1332,
   "metadata": {
    "collapsed": false,
    "deletable": true,
    "editable": true
   },
   "outputs": [
    {
     "data": {
      "text/plain": [
       "array([[ 1.],\n",
       "       [-1.]])"
      ]
     },
     "execution_count": 1332,
     "metadata": {},
     "output_type": "execute_result"
    }
   ],
   "source": [
    "y_train"
   ]
  },
  {
   "cell_type": "markdown",
   "metadata": {
    "deletable": true,
    "editable": true
   },
   "source": [
    "<b> Prediction </b>\n",
    "<font color=\"red\"> Test dataset available are: test_patternC,patterns_flipped_test,undeterminedPatterns</font>"
   ]
  },
  {
   "cell_type": "code",
   "execution_count": 608,
   "metadata": {
    "collapsed": false
   },
   "outputs": [
    {
     "data": {
      "text/plain": [
       "'\\nUse Test data set : \\ntest_patternC,\\npatterns_flipped_test,\\nundeterminedPatterns\\n'"
      ]
     },
     "execution_count": 608,
     "metadata": {},
     "output_type": "execute_result"
    }
   ],
   "source": [
    "\"\"\"\n",
    "Use Test data set : \n",
    "test_patternC,\n",
    "patterns_flipped_test,\n",
    "undeterminedPatterns\n",
    "\"\"\""
   ]
  },
  {
   "cell_type": "markdown",
   "metadata": {},
   "source": [
    "<b> Testing pattern C </b>"
   ]
  },
  {
   "cell_type": "code",
   "execution_count": 623,
   "metadata": {
    "collapsed": false
   },
   "outputs": [
    {
     "name": "stdout",
     "output_type": "stream",
     "text": [
      "....Start FeedForwardPropagation....\n",
      "Predicted out for valid test data [[1.]]\n"
     ]
    }
   ],
   "source": [
    "#Validating for valid patterns\n",
    "correct_pred = model.predict(test_patternC)\n",
    "print(\"Predicted out for valid test data {}\".format(correct_pred))"
   ]
  },
  {
   "cell_type": "markdown",
   "metadata": {
    "collapsed": false,
    "deletable": true,
    "editable": true
   },
   "source": [
    "<b> Predictions for Flipped and Corrupted Data Sets C</b>"
   ]
  },
  {
   "cell_type": "code",
   "execution_count": 966,
   "metadata": {
    "collapsed": true
   },
   "outputs": [],
   "source": [
    "misclassfies_via_flip = {}"
   ]
  },
  {
   "cell_type": "code",
   "execution_count": 967,
   "metadata": {
    "collapsed": false
   },
   "outputs": [],
   "source": [
    "def countMisclassification(output, pattern,test_data,estimator=\"flipped\"):\n",
    "    output = output.astype(int).tolist()\n",
    "    misclassified_list =[]\n",
    "    misclassified_input_set = []\n",
    "    if pattern == 'C':\n",
    "        label = 1\n",
    "    elif pattern == 'X':\n",
    "        label = -1\n",
    "        \n",
    "    missclassified_list = list(filter(lambda x:x != label,output))\n",
    "    count = len(missclassified_list)\n",
    "    if estimator == \"undermined\":\n",
    "        for i in range(0,len(output)):\n",
    "            if(output[i] != label):\n",
    "                misclassified_input_set.append(test_data[i])\n",
    "                \n",
    "    return count,misclassified_input_set"
   ]
  },
  {
   "cell_type": "code",
   "execution_count": 1038,
   "metadata": {
    "collapsed": false,
    "deletable": true,
    "editable": true
   },
   "outputs": [
    {
     "name": "stdout",
     "output_type": "stream",
     "text": [
      "....Start FeedForwardPropagation....\n",
      "Neural Network classified correctly for k = 15 flipped pixels\n"
     ]
    }
   ],
   "source": [
    "#Analyzing Flipped Patterns\n",
    "\n",
    "flipped_pred = model.predict(patterns_flipped_test)\n",
    "flipped_pred = flipped_pred[:,0]\n",
    "count,misfit = countMisclassification(flipped_pred,pattern='C',test_data=patterns_flipped_test,estimator=\"flipped\")\n",
    "\n",
    "if count > 1:\n",
    "    print('Misclassficiation found at k = {} flipped pixels.'.format(k_flipped))\n",
    "    print('Total {} Misclassifications found.'.format(count))\n",
    "else:\n",
    "    print('Neural Network classified correctly for k = {} flipped pixels'.format(k_flipped))\n",
    "\n",
    "misclassfies_via_flip[k_flipped]=count"
   ]
  },
  {
   "cell_type": "code",
   "execution_count": 1039,
   "metadata": {
    "collapsed": false
   },
   "outputs": [
    {
     "name": "stdout",
     "output_type": "stream",
     "text": [
      "Misclassfication count for K flipped pixesl \n",
      " {1: 0, 2: 0, 3: 0, 4: 70, 5: 546, 6: 1890, 7: 3830, 8: 5055, 9: 4585, 10: 2947, 11: 1365, 12: 455, 13: 105, 14: 15, 15: 1}\n"
     ]
    }
   ],
   "source": [
    "print(\"Misclassfication count for K flipped pixesl \\n\",misclassfies_via_flip)"
   ]
  },
  {
   "cell_type": "code",
   "execution_count": 1044,
   "metadata": {
    "collapsed": true
   },
   "outputs": [],
   "source": [
    "misclassfies_via_undetermined = {}"
   ]
  },
  {
   "cell_type": "code",
   "execution_count": 1137,
   "metadata": {
    "collapsed": false,
    "deletable": true,
    "editable": true
   },
   "outputs": [
    {
     "name": "stdout",
     "output_type": "stream",
     "text": [
      "....Start FeedForwardPropagation....\n",
      "Misclassficiation found at k = 15 undertemined pixels.\n",
      "Total 15 Misclassifications found.\n"
     ]
    }
   ],
   "source": [
    "#Analyzing Undetermined Patterns\n",
    "\n",
    "undetermined_pred = model.predict(undeterminedPatterns)\n",
    "undetermined_pred = undetermined_pred[:,0]\n",
    "count,misfits = countMisclassification(undetermined_pred,pattern='C',test_data=undeterminedPatterns,estimator=\"undermined\")\n",
    "\n",
    "if count > 1:\n",
    "    print('Misclassficiation found at k = {} undertemined pixels.'.format(k_undetermined))\n",
    "    print('Total {} Misclassifications found.'.format(count))\n",
    "    misclassfies_via_undetermined[k_undetermined]=count,misfits[0]\n",
    "else:\n",
    "    print('Neural Network classified correctly for k = {} undertemined pixels'.format(k_undetermined))\n",
    "    misclassfies_via_undetermined[k_undetermined]=count\n",
    "    \n"
   ]
  },
  {
   "cell_type": "code",
   "execution_count": 1138,
   "metadata": {
    "collapsed": false
   },
   "outputs": [
    {
     "name": "stdout",
     "output_type": "stream",
     "text": [
      "Misclassfication count for K undertmined pixesl \n",
      " {1: 0, 2: 0, 3: 0, 4: 0, 5: 0, 6: 0, 7: 0, 8: (8, array([ 0,  1,  0,  1,  0,  0, -1,  0, -1,  0,  1,  0, -1,  0,  1])), 9: (63, array([ 0,  0,  0,  1,  0,  0, -1,  0, -1,  0,  1,  0, -1,  0,  1])), 10: (210, array([ 0,  0,  0,  0,  0,  0, -1,  0, -1,  0,  1,  0, -1,  0,  1])), 11: (385, array([ 0,  0,  0,  0,  0,  0,  0,  0, -1,  0,  1,  0, -1,  0,  1])), 12: (420, array([ 0,  0,  0,  0,  0,  0,  0,  0,  0,  0,  1,  0, -1,  0,  1])), 13: (273, array([ 0,  0,  0,  0,  0,  0,  0,  0,  0,  0,  0,  0, -1,  0,  1])), 14: (98, array([0, 0, 0, 0, 0, 0, 0, 0, 0, 0, 0, 0, 0, 0, 1])), 15: (15, array([0, 0, 0, 0, 0, 0, 0, 0, 0, 0, 0, 0, 0, 0, 0]))}\n"
     ]
    }
   ],
   "source": [
    "print(\"Misclassfication count for K undertmined pixesl \\n\",misclassfies_via_undetermined)\n",
    "\n"
   ]
  },
  {
   "cell_type": "markdown",
   "metadata": {},
   "source": [
    "<b>Analysis for pattern X </b>"
   ]
  },
  {
   "cell_type": "code",
   "execution_count": 1142,
   "metadata": {
    "collapsed": true
   },
   "outputs": [],
   "source": [
    "misclassfies_via_flip_X = {}"
   ]
  },
  {
   "cell_type": "code",
   "execution_count": 1221,
   "metadata": {
    "collapsed": false
   },
   "outputs": [
    {
     "name": "stdout",
     "output_type": "stream",
     "text": [
      "....Start FeedForwardPropagation....\n",
      "Neural Network classified correctly for k = 15 flipped pixels\n"
     ]
    }
   ],
   "source": [
    "#Analyzing Flipped Patterns\n",
    "\n",
    "flipped_pred = model.predict(patterns_flipped_test)\n",
    "flipped_pred = flipped_pred[:,0]\n",
    "count,misfit = countMisclassification(flipped_pred,pattern='X',test_data=patterns_flipped_test,estimator=\"flipped\")\n",
    "\n",
    "if count > 1:\n",
    "    print('Misclassficiation found at k = {} flipped pixels.'.format(k_flipped))\n",
    "    print('Total {} Misclassifications found.'.format(count))\n",
    "else:\n",
    "    print('Neural Network classified correctly for k = {} flipped pixels'.format(k_flipped))\n",
    "\n",
    "misclassfies_via_flip_X[k_flipped]=count"
   ]
  },
  {
   "cell_type": "code",
   "execution_count": 1222,
   "metadata": {
    "collapsed": false
   },
   "outputs": [
    {
     "name": "stdout",
     "output_type": "stream",
     "text": [
      "Misclassfication count for K flipped pixesl for pattern X \n",
      " {1: 0, 2: 0, 3: 0, 4: 70, 5: 546, 6: 1890, 7: 3830, 8: 5055, 9: 4585, 10: 2947, 11: 1365, 12: 455, 13: 105, 14: 15, 15: 1}\n"
     ]
    }
   ],
   "source": [
    "print(\"Misclassfication count for K flipped pixesl for pattern X \\n\",misclassfies_via_flip_X)"
   ]
  },
  {
   "cell_type": "code",
   "execution_count": 1227,
   "metadata": {
    "collapsed": true
   },
   "outputs": [],
   "source": [
    "misclassfies_via_undetermined_X = {}"
   ]
  },
  {
   "cell_type": "code",
   "execution_count": 1312,
   "metadata": {
    "collapsed": false
   },
   "outputs": [
    {
     "name": "stdout",
     "output_type": "stream",
     "text": [
      "....Start FeedForwardPropagation....\n",
      "Misclassficiation found at k = 15 undertemined pixels for pattern X.\n",
      "Total 15 Misclassifications found.\n"
     ]
    }
   ],
   "source": [
    "#Analyzing Undetermined Patterns\n",
    "\n",
    "undetermined_pred = model.predict(undeterminedPatterns)\n",
    "undetermined_pred = undetermined_pred[:,0]\n",
    "count,misfits = countMisclassification(undetermined_pred,pattern='X',test_data=undeterminedPatterns,estimator=\"undermined\")\n",
    "\n",
    "if count > 1:\n",
    "    print('Misclassficiation found at k = {} undertemined pixels for pattern X.'.format(k_undetermined))\n",
    "    print('Total {} Misclassifications found.'.format(count))\n",
    "    misclassfies_via_undetermined_X[k_undetermined]=count,misfits[0]\n",
    "else:\n",
    "    print('Neural Network classified correctly for k = {} undertemined pixels for pattern X'.format(k_undetermined))\n",
    "    misclassfies_via_undetermined_X[k_undetermined]=count\n"
   ]
  },
  {
   "cell_type": "code",
   "execution_count": 1313,
   "metadata": {
    "collapsed": false
   },
   "outputs": [
    {
     "name": "stdout",
     "output_type": "stream",
     "text": [
      "Misclassfication count for K undermined pixesl for pattern X \n",
      " {1: 0, 2: 0, 3: 0, 4: 0, 5: 0, 6: 0, 7: 0, 8: (8, array([ 0,  1,  0,  1,  0,  0, -1,  0, -1,  0,  1,  0, -1,  0,  1])), 9: (63, array([ 0,  0,  0,  1,  0,  0, -1,  0, -1,  0,  1,  0, -1,  0,  1])), 10: (210, array([ 0,  0,  0,  0,  0,  0, -1,  0, -1,  0,  1,  0, -1,  0,  1])), 11: (385, array([ 0,  0,  0,  0,  0,  0,  0,  0, -1,  0,  1,  0, -1,  0,  1])), 12: (420, array([ 0,  0,  0,  0,  0,  0,  0,  0,  0,  0,  1,  0, -1,  0,  1])), 13: (273, array([ 0,  0,  0,  0,  0,  0,  0,  0,  0,  0,  0,  0, -1,  0,  1])), 14: (98, array([0, 0, 0, 0, 0, 0, 0, 0, 0, 0, 0, 0, 0, 0, 1])), 15: (15, array([0, 0, 0, 0, 0, 0, 0, 0, 0, 0, 0, 0, 0, 0, 0]))}\n"
     ]
    }
   ],
   "source": [
    "print(\"Misclassfication count for K undermined pixesl for pattern X \\n\",misclassfies_via_undetermined_X)"
   ]
  }
 ],
 "metadata": {
  "kernelspec": {
   "display_name": "Python 3",
   "language": "python",
   "name": "python3"
  },
  "language_info": {
   "codemirror_mode": {
    "name": "ipython",
    "version": 3
   },
   "file_extension": ".py",
   "mimetype": "text/x-python",
   "name": "python",
   "nbconvert_exporter": "python",
   "pygments_lexer": "ipython3",
   "version": "3.6.1"
  }
 },
 "nbformat": 4,
 "nbformat_minor": 2
}
