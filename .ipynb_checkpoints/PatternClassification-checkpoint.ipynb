{
 "cells": [
  {
   "cell_type": "markdown",
   "metadata": {},
   "source": [
    "<h3> A Neural Network Implementation for Pattern Classification using Hebb's rule </h3>"
   ]
  },
  {
   "cell_type": "markdown",
   "metadata": {},
   "source": [
    "<b>Reading input images </b>"
   ]
  },
  {
   "cell_type": "code",
   "execution_count": 191,
   "metadata": {
    "collapsed": true
   },
   "outputs": [],
   "source": [
    "import numpy as np\n",
    "import os"
   ]
  },
  {
   "cell_type": "code",
   "execution_count": 197,
   "metadata": {
    "collapsed": true
   },
   "outputs": [],
   "source": [
    "filePath = \"./pattern_data/\""
   ]
  },
  {
   "cell_type": "code",
   "execution_count": 249,
   "metadata": {
    "collapsed": false
   },
   "outputs": [],
   "source": [
    "def read_file(fileName):\n",
    "    file = os.path.join(filePath,fileName)\n",
    "    print('Quering file {}'.format(file))\n",
    "    \n",
    "    pattern, labels,pixel =[],[],[];\n",
    "    with open(file,\"r\") as f:\n",
    "        lines = f.read().splitlines()\n",
    "        for line in lines:\n",
    "            for ch in line:\n",
    "                if ch == \"#\" or ch == \".\":\n",
    "                    pixel.append(ch)\n",
    "                elif ch ==\",\":\n",
    "                    pattern.append(pixel)\n",
    "                    pixel=[]\n",
    "                else:\n",
    "                    labels.append(ch)\n",
    "            \n",
    "    print('..Completed processing file...\"')\n",
    "    return pattern, labels\n",
    "    \n",
    "    \n",
    "    \n",
    "    "
   ]
  },
  {
   "cell_type": "code",
   "execution_count": 252,
   "metadata": {
    "collapsed": false
   },
   "outputs": [
    {
     "name": "stdout",
     "output_type": "stream",
     "text": [
      "Quering file ./pattern_data/training_data.txt\n",
      "..Completed processing file...\"\n"
     ]
    }
   ],
   "source": [
    "train_patterns,train_labels = read_file(fileName=\"training_data.txt\")"
   ]
  },
  {
   "cell_type": "code",
   "execution_count": 253,
   "metadata": {
    "collapsed": false
   },
   "outputs": [
    {
     "name": "stdout",
     "output_type": "stream",
     "text": [
      "Quering file ./pattern_data/test_data.txt\n",
      "..Completed processing file...\"\n"
     ]
    }
   ],
   "source": [
    "test_patterns,test_labels = read_file(fileName=\"test_data.txt\")"
   ]
  },
  {
   "cell_type": "code",
   "execution_count": null,
   "metadata": {
    "collapsed": true
   },
   "outputs": [],
   "source": [
    "def convertPatternToBipolarVectors(patterns,labels):\n",
    "    input_vector, output_vector,image = [],[],[]\n",
    "    for ch in data:\n",
    "        if ch == \"#\":\n",
    "            "
   ]
  },
  {
   "cell_type": "code",
   "execution_count": 132,
   "metadata": {
    "collapsed": true
   },
   "outputs": [],
   "source": [
    "def readImages():\n",
    "    \"\"\"\n",
    "    Convert the patterns to bipolar vectors\n",
    "    \"\"\"\n",
    "    train_char1 = np.array([1,-1,1,1,-1,-1,1,-1,1,1,-1,-1,1,-1,1]).reshape(-1,15)\n",
    "    train_char2 = np.array([1,-1,1,1,1,-1,1,-1,1,1,-1,-1,1,1,-1]).reshape(-1,15)\n",
    "    images = np.concatenate((train_char1,train_char2),axis=0)\n",
    "    t = np.array([1,-1]).reshape(2,-1)\n",
    "    return images,t"
   ]
  },
  {
   "cell_type": "code",
   "execution_count": 133,
   "metadata": {
    "collapsed": false
   },
   "outputs": [
    {
     "name": "stdout",
     "output_type": "stream",
     "text": [
      "(2, 15)\n"
     ]
    },
    {
     "data": {
      "text/plain": [
       "(2, 1)"
      ]
     },
     "execution_count": 133,
     "metadata": {},
     "output_type": "execute_result"
    }
   ],
   "source": [
    "images_train,t = readImages()\n",
    "print(images_train.shape)\n",
    "y.shape"
   ]
  },
  {
   "cell_type": "code",
   "execution_count": 164,
   "metadata": {
    "collapsed": false
   },
   "outputs": [],
   "source": [
    "def readTestImages():\n",
    "    test_char1 = np.array([1,-1,1,1,-1,-1,1,-1,1,1,-1,-1,1,-1,1]).reshape(-1,15)\n",
    "    images_test =  test_char1\n",
    "    return images_test"
   ]
  },
  {
   "cell_type": "markdown",
   "metadata": {},
   "source": [
    "Define the dimensions for a two layered  Neural Network Perceptron Model"
   ]
  },
  {
   "cell_type": "code",
   "execution_count": 135,
   "metadata": {
    "collapsed": true
   },
   "outputs": [],
   "source": [
    "\n",
    "dimensions = [images_train.shape[1],t.shape[1]]\n",
    "parameters = {}\n"
   ]
  },
  {
   "cell_type": "markdown",
   "metadata": {},
   "source": [
    "Define the Neural Network"
   ]
  },
  {
   "cell_type": "code",
   "execution_count": 180,
   "metadata": {
    "collapsed": false
   },
   "outputs": [],
   "source": [
    "class NeuralNetwork:\n",
    "    def __init__(self,dimensions):\n",
    "        self.parameters = parameters\n",
    "        \n",
    "        print('...Initializing Parameters for the model...')\n",
    "        parameters[\"W\"] = np.zeros([dimensions[0],dimensions[1]])\n",
    "        parameters[\"b\"] = np.zeros([dimensions[1],1])\n",
    "        \n",
    "        print('Weight Matrix defined as {}'.format(parameters[\"W\"].shape))\n",
    "        print('Bias Vector defined as {}'.format(parameters[\"b\"].shape))\n",
    "        \n",
    "    def affineForward(self,X,W,b):\n",
    "        print('.....Staring affineForward.....')\n",
    "        yin = np.dot(X,W) + b      \n",
    "        print(yin)\n",
    "        return yin\n",
    "    \n",
    "    def feedForwardPropagation(self,X):\n",
    "        print('Start FeedForwardPropagation....')\n",
    "        \n",
    "        W = self.parameters[\"W\"]\n",
    "        b = self.parameters[\"b\"]\n",
    "        yin = self.affineForward(X,W,b)\n",
    "        \n",
    "        print ('Shape of output {}'.format(yin.shape))\n",
    "        return yin\n",
    "    \n",
    "    def backwardPropagation(self,t,S):\n",
    "        print('....Starting backpropagation.....')\n",
    "        dw = np.dot(S.T,t)\n",
    "        db = np.sum(t,axis=0).reshape(1,-1)\n",
    "        print('Delta W:{}'.format(dw.shape))\n",
    "        print('Delta b:{}'.format(db.shape))\n",
    "        return dw,db\n",
    "    \n",
    "    def updateParameters(self,dw,db):\n",
    "        print('....Updating Weight and bias.....')\n",
    "        parameters = self.parameters\n",
    "        \n",
    "        parameters[\"W\"] = np.add(parameters[\"W\"],dw)\n",
    "        parameters[\"b\"] = np.add(parameters[\"b\"],db)\n",
    "        \n",
    "        \n",
    "    def train(self,X,t,numOfIterations):\n",
    "        S = X\n",
    "        y = t\n",
    "        print('......Training Data Model......')\n",
    "        for i in range(1,numOfIterations):\n",
    "            print('.....Starting iteration {}....'.format(i))\n",
    "            yin = self.feedForwardPropagation(X)\n",
    "            dw,db = self.backwardPropagation(y,S)\n",
    "            self.updateParameters(dw,db)\n",
    "        \n",
    "        print('...Training ends here....')\n",
    "        \n",
    "     \n",
    "    def predict(self,X):\n",
    "        t = self.feedForwardPropagation(X)\n",
    "        return t"
   ]
  },
  {
   "cell_type": "code",
   "execution_count": 181,
   "metadata": {
    "collapsed": false
   },
   "outputs": [
    {
     "name": "stdout",
     "output_type": "stream",
     "text": [
      "...Initializing Parameters for the model...\n",
      "Weight Matrix defined as (15, 1)\n",
      "Bias Vector defined as (1, 1)\n"
     ]
    }
   ],
   "source": [
    "model = NeuralNetwork(dimensions)\n"
   ]
  },
  {
   "cell_type": "code",
   "execution_count": 182,
   "metadata": {
    "collapsed": false
   },
   "outputs": [
    {
     "name": "stdout",
     "output_type": "stream",
     "text": [
      "......Training Data Model......\n",
      ".....Starting iteration 1....\n",
      "Start FeedForwardPropagation....\n",
      ".....Staring affineForward.....\n",
      "[[0.]\n",
      " [0.]]\n",
      "Shape of output (2, 1)\n",
      "....Starting backpropagation.....\n",
      "Delta W:(15, 1)\n",
      "Delta b:(1, 1)\n",
      "....Updating Weight and bias.....\n",
      ".....Starting iteration 2....\n",
      "Start FeedForwardPropagation....\n",
      ".....Staring affineForward.....\n",
      "[[ 6.]\n",
      " [-6.]]\n",
      "Shape of output (2, 1)\n",
      "....Starting backpropagation.....\n",
      "Delta W:(15, 1)\n",
      "Delta b:(1, 1)\n",
      "....Updating Weight and bias.....\n",
      ".....Starting iteration 3....\n",
      "Start FeedForwardPropagation....\n",
      ".....Staring affineForward.....\n",
      "[[ 12.]\n",
      " [-12.]]\n",
      "Shape of output (2, 1)\n",
      "....Starting backpropagation.....\n",
      "Delta W:(15, 1)\n",
      "Delta b:(1, 1)\n",
      "....Updating Weight and bias.....\n",
      "...Training ends here....\n"
     ]
    }
   ],
   "source": [
    "model.train(images_train,t,4)"
   ]
  },
  {
   "cell_type": "code",
   "execution_count": 183,
   "metadata": {
    "collapsed": false
   },
   "outputs": [
    {
     "data": {
      "text/plain": [
       "(15, 1)"
      ]
     },
     "execution_count": 183,
     "metadata": {},
     "output_type": "execute_result"
    }
   ],
   "source": [
    "model.parameters[\"W\"].shape"
   ]
  },
  {
   "cell_type": "code",
   "execution_count": 184,
   "metadata": {
    "collapsed": false
   },
   "outputs": [
    {
     "data": {
      "text/plain": [
       "(1, 1)"
      ]
     },
     "execution_count": 184,
     "metadata": {},
     "output_type": "execute_result"
    }
   ],
   "source": [
    "model.parameters[\"b\"].shape"
   ]
  },
  {
   "cell_type": "code",
   "execution_count": 185,
   "metadata": {
    "collapsed": true
   },
   "outputs": [],
   "source": [
    "test_images = readTestImages()"
   ]
  },
  {
   "cell_type": "code",
   "execution_count": 186,
   "metadata": {
    "collapsed": false
   },
   "outputs": [
    {
     "data": {
      "text/plain": [
       "array([[ 1, -1,  1,  1, -1, -1,  1, -1,  1,  1, -1, -1,  1, -1,  1]])"
      ]
     },
     "execution_count": 186,
     "metadata": {},
     "output_type": "execute_result"
    }
   ],
   "source": [
    "test_images"
   ]
  },
  {
   "cell_type": "code",
   "execution_count": 187,
   "metadata": {
    "collapsed": false
   },
   "outputs": [
    {
     "name": "stdout",
     "output_type": "stream",
     "text": [
      "Start FeedForwardPropagation....\n",
      ".....Staring affineForward.....\n",
      "[[18.]]\n",
      "Shape of output (1, 1)\n"
     ]
    }
   ],
   "source": [
    "t_pred = model.predict(test_images)"
   ]
  },
  {
   "cell_type": "code",
   "execution_count": 169,
   "metadata": {
    "collapsed": false
   },
   "outputs": [
    {
     "data": {
      "text/plain": [
       "array([6.])"
      ]
     },
     "execution_count": 169,
     "metadata": {},
     "output_type": "execute_result"
    }
   ],
   "source": [
    "t_pred[0]"
   ]
  }
 ],
 "metadata": {
  "kernelspec": {
   "display_name": "Python 3",
   "language": "python",
   "name": "python3"
  },
  "language_info": {
   "codemirror_mode": {
    "name": "ipython",
    "version": 3
   },
   "file_extension": ".py",
   "mimetype": "text/x-python",
   "name": "python",
   "nbconvert_exporter": "python",
   "pygments_lexer": "ipython3",
   "version": "3.6.1"
  }
 },
 "nbformat": 4,
 "nbformat_minor": 2
}
