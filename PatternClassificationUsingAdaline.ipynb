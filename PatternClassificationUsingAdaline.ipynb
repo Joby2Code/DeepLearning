{
 "cells": [
  {
   "cell_type": "markdown",
   "metadata": {},
   "source": [
    "<h2> Pattern Classification Using Adaline Networks</h2>"
   ]
  },
  {
   "cell_type": "code",
   "execution_count": 785,
   "metadata": {
    "collapsed": true
   },
   "outputs": [],
   "source": [
    "import numpy as np\n",
    "import copy\n",
    "from termcolor import colored\n",
    "from sklearn.metrics import accuracy_score\n",
    "import matplotlib.pyplot as plt\n",
    "import os"
   ]
  },
  {
   "cell_type": "code",
   "execution_count": 786,
   "metadata": {
    "collapsed": true
   },
   "outputs": [],
   "source": [
    "image_path = \"./AdalineResources/images/\""
   ]
  },
  {
   "cell_type": "markdown",
   "metadata": {},
   "source": [
    "Initialize input and target vectors"
   ]
  },
  {
   "cell_type": "code",
   "execution_count": 1100,
   "metadata": {
    "collapsed": false
   },
   "outputs": [],
   "source": [
    "s = np.array(([1,1,-1],[1,2,-1],[2,-1,1],[2,0,1],[1,-2,1],[0,0,1],[-1,2,1],[-2,1,1],[-1,-1,-1],[-2,-2,-1],[-2,-1,-1]))"
   ]
  },
  {
   "cell_type": "code",
   "execution_count": 1101,
   "metadata": {
    "collapsed": false
   },
   "outputs": [],
   "source": [
    "targets = np.array(([-1,-1],[-1,-1],[-1,1],[-1,1],[-1,1],[-1,1],[1,-1],[1,-1],[1,1],[1,1],[1,1]))"
   ]
  },
  {
   "cell_type": "code",
   "execution_count": 1102,
   "metadata": {
    "collapsed": false
   },
   "outputs": [
    {
     "name": "stdout",
     "output_type": "stream",
     "text": [
      "Input Shape: (11, 3), output shape: (11, 2)\n"
     ]
    }
   ],
   "source": [
    "assert s.shape[0] == targets.shape[0], 'Number of inputs are equal'\n",
    "print(\"Input Shape: {}, output shape: {}\".format(s.shape,targets.shape))\n"
   ]
  },
  {
   "cell_type": "code",
   "execution_count": 1103,
   "metadata": {
    "collapsed": false
   },
   "outputs": [
    {
     "name": "stdout",
     "output_type": "stream",
     "text": [
      "Input Shape: (3, 11), output shape: (2, 11)\n"
     ]
    },
    {
     "data": {
      "text/plain": [
       "array([[-1, -1, -1, -1, -1, -1,  1,  1,  1,  1,  1],\n",
       "       [-1, -1,  1,  1,  1,  1, -1, -1,  1,  1,  1]])"
      ]
     },
     "execution_count": 1103,
     "metadata": {},
     "output_type": "execute_result"
    }
   ],
   "source": [
    "#Transpose the shapes of input and targets\n",
    "s = s.T\n",
    "targets = targets.T\n",
    "assert s.shape[1] == targets.shape[1], 'Number of inputs are unequal'\n",
    "print(\"Input Shape: {}, output shape: {}\".format(s.shape,targets.shape))\n",
    "targets"
   ]
  },
  {
   "cell_type": "code",
   "execution_count": 1104,
   "metadata": {
    "collapsed": false
   },
   "outputs": [],
   "source": [
    "#Initializing test data\n",
    "test_s = copy.copy(s)\n",
    "test_target = copy.copy(targets)"
   ]
  },
  {
   "cell_type": "markdown",
   "metadata": {},
   "source": [
    "<b> Define dimensions for Adaline Network </b>\n"
   ]
  },
  {
   "cell_type": "code",
   "execution_count": 1105,
   "metadata": {
    "collapsed": false
   },
   "outputs": [],
   "source": [
    "layer_dim = [s.shape[0],targets.shape[0]]\n",
    "total_samples = s.shape[1]"
   ]
  },
  {
   "cell_type": "code",
   "execution_count": 1106,
   "metadata": {
    "collapsed": false
   },
   "outputs": [],
   "source": [
    "def plot_learning_curve(data,alpha,save_to_file=False):\n",
    "    fig = plt.figure()\n",
    "    ax=plt.gca()\n",
    "    lists = sorted(data.items())\n",
    "    x,y = zip(*lists)\n",
    "    plt.plot(x,y)\n",
    "    plt.title('Learning Curve_{}'.format(alpha))\n",
    "    plt.xlabel('learning_rate')\n",
    "    plt.ylabel('accuracy')\n",
    "    \n",
    "    \n",
    "    ymax = max(y)\n",
    "    xpos = y.index(ymax)\n",
    "    xmax = x[xpos]\n",
    "    text= \"alpha={:.4f}, accuracy={:.3f}\".format(xmax, ymax*100)\n",
    "    \n",
    "    bbox_props = dict(boxstyle=\"square,pad=0.3\", fc=\"w\", ec=\"k\", lw=0.72)\n",
    "    arrowprops=dict(arrowstyle=\"->\",connectionstyle=\"angle,angleA=0,angleB=60\")\n",
    "    kw = dict(xycoords='data',textcoords=\"axes fraction\",\n",
    "              arrowprops=arrowprops, bbox=bbox_props, ha=\"right\", va=\"top\")\n",
    "    ax.annotate(text, xy=(xmax, ymax), xytext=(0.94,0.96), **kw)\n",
    "    \n",
    "    if save_to_file == True:\n",
    "        fig.savefig(image_path+\"alpha_\"+alpha+\".png\")\n",
    "        \n",
    "    plt.show()"
   ]
  },
  {
   "cell_type": "code",
   "execution_count": 1107,
   "metadata": {
    "collapsed": true
   },
   "outputs": [],
   "source": [
    "def plot_error_curve(data,alpha,save_to_file=False):\n",
    "\n",
    "    fig = plt.figure()\n",
    "    ax=plt.gca()\n",
    "    lists = sorted(data.items())\n",
    "    x,y = zip(*lists)\n",
    "    plt.plot(x,y,c='r')\n",
    "    plt.title('Error Curve_{}'.format(alpha))\n",
    "    plt.xlabel('learning_rate')\n",
    "    plt.ylabel('error')\n",
    "    \n",
    "    \n",
    "    ymin = min(y)\n",
    "    xpos = y.index(ymin)\n",
    "    xmin = x[xpos]\n",
    "    text= \"alpha={}, error={:.3f}\".format(xmin, ymin)\n",
    "    \n",
    "    bbox_props = dict(boxstyle=\"square,pad=0.3\", fc=\"w\", ec=\"k\", lw=0.72)\n",
    "    arrowprops=dict(arrowstyle=\"->\",connectionstyle=\"angle,angleA=0,angleB=60\")\n",
    "    kw = dict(xycoords='data',textcoords=\"axes fraction\",\n",
    "              arrowprops=arrowprops, bbox=bbox_props, ha=\"right\", va=\"top\")\n",
    "    ax.annotate(text, xy=(xmin, ymin), xytext=(0.94,0.96), **kw)\n",
    "    \n",
    "    if save_to_file == True:\n",
    "        fig.savefig(image_path+\"error_\"+alpha+\".png\")\n",
    "        \n",
    "    plt.show()"
   ]
  },
  {
   "cell_type": "code",
   "execution_count": 1108,
   "metadata": {
    "collapsed": true
   },
   "outputs": [],
   "source": [
    "def compute_learning_rate(iterations,learning_rate,useIterations=True):\n",
    "    if useIterations == True:\n",
    "        learning_rate =  learning_rate/(total_samples*iterations)\n",
    "    else:\n",
    "        learning_rate =  learning_rate/(total_samples)\n",
    "\n",
    "    return float(\"{0:.10f}\".format(learning_rate))\n"
   ]
  },
  {
   "cell_type": "markdown",
   "metadata": {},
   "source": [
    "<b> Helper Functions for Adaline Network </b>"
   ]
  },
  {
   "cell_type": "code",
   "execution_count": 1109,
   "metadata": {
    "collapsed": false
   },
   "outputs": [],
   "source": [
    "def _checkInputRange(start,end):\n",
    "    if start > end:\n",
    "        start = 0\n",
    "    return start"
   ]
  },
  {
   "cell_type": "markdown",
   "metadata": {},
   "source": [
    "<b> Build Adaline Network </b>"
   ]
  },
  {
   "cell_type": "code",
   "execution_count": 1191,
   "metadata": {
    "collapsed": false
   },
   "outputs": [],
   "source": [
    "class AdalineNetwork:\n",
    "    parameters = {}\n",
    "    \n",
    "    def __init__(self):\n",
    "        self.parameters[\"W\"] = np.zeros([layer_dim[0],layer_dim[1]])\n",
    "        self.parameters[\"b\"] = np.zeros([layer_dim[1],1])\n",
    "        \n",
    "        assert self.parameters[\"W\"].shape[1] == self.parameters[\"b\"].shape[0],\"Weight and bias are of incorrect dimensions\"\n",
    "        print(\"Model Initialized with shapes, Weight Matrix {}, Bias Vectcor {}\".format(self.parameters[\"W\"].shape,self.parameters[\"b\"].shape))\n",
    "        \n",
    "        assert not np.any(self.parameters[\"W\"]) == True,\"Weight matrix is not initilaized to zero\"\n",
    "        assert not np.any(self.parameters[\"b\"]) == True,\"Bias vector is not initilaized to zero\"\n",
    "        \n",
    "        \n",
    "    def affineForward(self,S,W,b):\n",
    "        S = S.reshape(-1,3)\n",
    "        yin = np.dot(S,W).reshape(2,-1)\n",
    "        yin = yin+b\n",
    "        #print('affine forward--yin,S,W,b',yin,S,W,b)\n",
    "        return yin\n",
    "        \n",
    "    \n",
    "    def activationForward(self,yin,theta=0):\n",
    "        yin[yin>=theta] = 1\n",
    "        yin[yin<theta] = -1\n",
    "        yin = yin.astype(int)\n",
    "        return yin\n",
    "\n",
    "    def feedForwardPropagation(self, S, activation=True,theta=0):\n",
    "        W = self.parameters[\"W\"]\n",
    "        b = self.parameters[\"b\"]\n",
    "        yin = self.affineForward(S,W,b)\n",
    "        \n",
    "        if activation == False:\n",
    "            return yin\n",
    "        else:\n",
    "            y = self.activationForward(yin,theta=0)\n",
    "            print('activation',y)\n",
    "            return y\n",
    "    \n",
    "    def error_function(self,yin,target):\n",
    "        #print('Error Function')\n",
    "        yin = yin.reshape(2,-1)\n",
    "        target = target.reshape(2,-1)\n",
    "        #print(yin,target)\n",
    "        #print(yin.shape,target.shape)\n",
    "        error = np.subtract(yin,target)\n",
    "        #print(error)\n",
    "        error = error**2\n",
    "        error = np.sum(error,axis=0)\n",
    "        #print('error',error)\n",
    "        return error\n",
    "    \n",
    "    def affineBackward(self,X,y,t):\n",
    "        t = t.reshape(-1,2)\n",
    "        y = y.reshape(-1,2)\n",
    "        X = X.reshape(-1,3)\n",
    "        err = np.subtract(y,t)\n",
    "        dw = np.dot(X.T,err)\n",
    "        db = err.T\n",
    "        return dw,db\n",
    "        \n",
    "    \n",
    "    def backwardPropagation(self,X,y,t,alpha):\n",
    "        #print('Initiating backward Propagation')\n",
    "        dw,db = self.affineBackward(X,y,t)\n",
    "        dw = 2*alpha*dw\n",
    "        db = 2*alpha*db\n",
    "        #print('backwardprop dw,db',dw,db)\n",
    "        return dw,db\n",
    "        \n",
    "    def updateParameters(self,dw,db):\n",
    "        #print(dw.shape,db.shape)\n",
    "        self.parameters[\"W\"] = np.subtract(self.parameters[\"W\"],dw)\n",
    "        self.parameters[\"b\"] = np.subtract(self.parameters[\"b\"],db)\n",
    "        #print('Update W',self.parameters[\"W\"],self.parameters[\"b\"])\n",
    "        \n",
    "    def accuracy(self,yin,target):\n",
    "        yin_copy = copy.copy(yin)\n",
    "        y = self.activationForward(yin_copy)\n",
    "        y = y.reshape(-1,2)\n",
    "        #print(y,target,y.shape,target.shape)\n",
    "        \n",
    "        if np.array_equal(y[0],target):          \n",
    "            #print(colored('Yes convergence for the vectors predicted,target--> {} {}'.format(y[0],target),'green'))\n",
    "            pass\n",
    "        else:\n",
    "            #print(colored ('No convergence for the vectors predicted,target--> {} {}'.format(y[0],target),'red'))\n",
    "            pass\n",
    "        \n",
    "        return y[0],target\n",
    "        \n",
    "    def train(self,s,targets,iterations,learning_rate,is_variable_input=False):\n",
    "       \n",
    "        batch_error=[];\n",
    "        prediction_y = [];\n",
    "        target_t = [];\n",
    "        \n",
    "        if (iterations < s.shape[1]):\n",
    "            iterations = s.shape[1]\n",
    "        \n",
    "        print('Model Training for total iterations of: {} at learning_rate: {}'.format(iterations,learning_rate))\n",
    "        s_start = 0\n",
    "        s_end = s.shape[1]-1\n",
    "        batch = 1;\n",
    "        \n",
    "        if is_variable_input==True:\n",
    "            test_data = s[:,7][0]\n",
    "            print('Training for input s8 changed to {}'.format(s[:,7]))\n",
    "            \n",
    "        for i in range(0,iterations):\n",
    "            #print('Starting iteration: {}...'.format(i))\n",
    "            \n",
    "            s_start = _checkInputRange(s_start,s_end)\n",
    "            yin = self.feedForwardPropagation(s[:,s_start],activation=False)\n",
    "            y,t = self.accuracy(yin,targets[:,s_start])\n",
    "            \n",
    "            prediction_y.append(list(y))\n",
    "            target_t.append(list(t))\n",
    "            \n",
    "            error = self.error_function(yin,targets[:,s_start])\n",
    "            #error = self.error_function(y,t)\n",
    "            batch_error.append(error[0])\n",
    "            \n",
    "            if s_start == s_end:\n",
    "                err_sum = sum(batch_error)/(s_end+1)\n",
    "                print(colored('Error observed at the end of batch size: {} is :{}'.format(s_end+1,err_sum),'red'))\n",
    "                \n",
    "                score = accuracy_score(np.array(prediction_y),np.array(target_t))\n",
    "                print(colored('Accuracy observed for the batch of training set: {0:.2f}'.format(score*100),'blue'))\n",
    "                \n",
    "                if batch == 1:\n",
    "                    regularization_dict[learning_rate] = score\n",
    "                    batch = batch+1\n",
    "                    \n",
    "                if is_variable_input==True:\n",
    "                    variable_input_dict[test_data]=score\n",
    "                    error_dict[test_data]=err_sum\n",
    "                    \n",
    "                elif is_variable_input==None:\n",
    "                    error_dict[i]=err_sum\n",
    "                \n",
    "                else: \n",
    "                    error_dict[learning_rate]=err_sum\n",
    "                    \n",
    "                prediction_y.clear()\n",
    "                target_t.clear()\n",
    "                batch_error.clear()\n",
    "                \n",
    "                print('*******************************************************************************')\n",
    "                \n",
    "            dw,db = self.backwardPropagation(s[:,s_start],yin,targets[:,s_start],learning_rate)\n",
    "            self.updateParameters(dw,db)\n",
    "            s_start = s_start+1\n",
    "            \n",
    "        \n",
    "        print('.........Training concludes here...........')\n",
    "    \n",
    "    def predict(self,s,theta=0):\n",
    "        print('Running Predictions on input...')\n",
    "        y = self.feedForwardPropagation(s,activation=True,theta=0)      \n",
    "        return y\n",
    "            \n",
    "            \n",
    "            \n",
    "            \n",
    "            "
   ]
  },
  {
   "cell_type": "markdown",
   "metadata": {},
   "source": [
    "<b>Find the best learning_rate</b>"
   ]
  },
  {
   "cell_type": "code",
   "execution_count": 1200,
   "metadata": {
    "collapsed": false
   },
   "outputs": [
    {
     "name": "stdout",
     "output_type": "stream",
     "text": [
      "Model Initialized with shapes, Weight Matrix (3, 2), Bias Vectcor (2, 1)\n",
      "Model Training for total iterations of: 22 at learning_rate: 0.0090909091\n",
      "\u001b[31mError observed at the end of batch size: 11 is :1.6190023982488695\u001b[0m\n",
      "\u001b[34mAccuracy observed for the batch of training set: 63.64\u001b[0m\n",
      "*******************************************************************************\n",
      "\u001b[31mError observed at the end of batch size: 11 is :0.8965741281132402\u001b[0m\n",
      "\u001b[34mAccuracy observed for the batch of training set: 100.00\u001b[0m\n",
      "*******************************************************************************\n",
      ".........Training concludes here...........\n",
      "Model Initialized with shapes, Weight Matrix (3, 2), Bias Vectcor (2, 1)\n",
      "Model Training for total iterations of: 22 at learning_rate: 0.0181818182\n",
      "\u001b[31mError observed at the end of batch size: 11 is :1.3635702198806476\u001b[0m\n",
      "\u001b[34mAccuracy observed for the batch of training set: 63.64\u001b[0m\n",
      "*******************************************************************************\n",
      "\u001b[31mError observed at the end of batch size: 11 is :0.5559332261683566\u001b[0m\n",
      "\u001b[34mAccuracy observed for the batch of training set: 100.00\u001b[0m\n",
      "*******************************************************************************\n",
      ".........Training concludes here...........\n",
      "Model Initialized with shapes, Weight Matrix (3, 2), Bias Vectcor (2, 1)\n",
      "Model Training for total iterations of: 22 at learning_rate: 0.0272727273\n",
      "\u001b[31mError observed at the end of batch size: 11 is :1.192817122842641\u001b[0m\n",
      "\u001b[34mAccuracy observed for the batch of training set: 63.64\u001b[0m\n",
      "*******************************************************************************\n",
      "\u001b[31mError observed at the end of batch size: 11 is :0.479158094162876\u001b[0m\n",
      "\u001b[34mAccuracy observed for the batch of training set: 100.00\u001b[0m\n",
      "*******************************************************************************\n",
      ".........Training concludes here...........\n",
      "Model Initialized with shapes, Weight Matrix (3, 2), Bias Vectcor (2, 1)\n",
      "Model Training for total iterations of: 22 at learning_rate: 0.0363636364\n",
      "\u001b[31mError observed at the end of batch size: 11 is :1.0810047403766219\u001b[0m\n",
      "\u001b[34mAccuracy observed for the batch of training set: 63.64\u001b[0m\n",
      "*******************************************************************************\n",
      "\u001b[31mError observed at the end of batch size: 11 is :0.49452790994097434\u001b[0m\n",
      "\u001b[34mAccuracy observed for the batch of training set: 100.00\u001b[0m\n",
      "*******************************************************************************\n",
      ".........Training concludes here...........\n",
      "Model Initialized with shapes, Weight Matrix (3, 2), Bias Vectcor (2, 1)\n",
      "Model Training for total iterations of: 22 at learning_rate: 0.0454545455\n",
      "\u001b[31mError observed at the end of batch size: 11 is :1.0117964593891733\u001b[0m\n",
      "\u001b[34mAccuracy observed for the batch of training set: 63.64\u001b[0m\n",
      "*******************************************************************************\n",
      "\u001b[31mError observed at the end of batch size: 11 is :0.5398062769157872\u001b[0m\n",
      "\u001b[34mAccuracy observed for the batch of training set: 100.00\u001b[0m\n",
      "*******************************************************************************\n",
      ".........Training concludes here...........\n",
      "Model Initialized with shapes, Weight Matrix (3, 2), Bias Vectcor (2, 1)\n",
      "Model Training for total iterations of: 22 at learning_rate: 0.0545454545\n",
      "\u001b[31mError observed at the end of batch size: 11 is :0.9746658516743338\u001b[0m\n",
      "\u001b[34mAccuracy observed for the batch of training set: 72.73\u001b[0m\n",
      "*******************************************************************************\n",
      "\u001b[31mError observed at the end of batch size: 11 is :0.5923861034572928\u001b[0m\n",
      "\u001b[34mAccuracy observed for the batch of training set: 100.00\u001b[0m\n",
      "*******************************************************************************\n",
      ".........Training concludes here...........\n",
      "Model Initialized with shapes, Weight Matrix (3, 2), Bias Vectcor (2, 1)\n",
      "Model Training for total iterations of: 22 at learning_rate: 0.0636363636\n",
      "\u001b[31mError observed at the end of batch size: 11 is :0.9628474858509672\u001b[0m\n",
      "\u001b[34mAccuracy observed for the batch of training set: 72.73\u001b[0m\n",
      "*******************************************************************************\n",
      "\u001b[31mError observed at the end of batch size: 11 is :0.64568464641597\u001b[0m\n",
      "\u001b[34mAccuracy observed for the batch of training set: 100.00\u001b[0m\n",
      "*******************************************************************************\n",
      ".........Training concludes here...........\n",
      "Model Initialized with shapes, Weight Matrix (3, 2), Bias Vectcor (2, 1)\n",
      "Model Training for total iterations of: 22 at learning_rate: 0.0727272727\n",
      "\u001b[31mError observed at the end of batch size: 11 is :0.9723347693115898\u001b[0m\n",
      "\u001b[34mAccuracy observed for the batch of training set: 72.73\u001b[0m\n",
      "*******************************************************************************\n",
      "\u001b[31mError observed at the end of batch size: 11 is :0.7004731502782356\u001b[0m\n",
      "\u001b[34mAccuracy observed for the batch of training set: 90.91\u001b[0m\n",
      "*******************************************************************************\n",
      ".........Training concludes here...........\n",
      "Model Initialized with shapes, Weight Matrix (3, 2), Bias Vectcor (2, 1)\n",
      "Model Training for total iterations of: 22 at learning_rate: 0.0818181818\n",
      "\u001b[31mError observed at the end of batch size: 11 is :1.0014947952847897\u001b[0m\n",
      "\u001b[34mAccuracy observed for the batch of training set: 72.73\u001b[0m\n",
      "*******************************************************************************\n",
      "\u001b[31mError observed at the end of batch size: 11 is :0.761657335406733\u001b[0m\n",
      "\u001b[34mAccuracy observed for the batch of training set: 90.91\u001b[0m\n",
      "*******************************************************************************\n",
      ".........Training concludes here...........\n"
     ]
    }
   ],
   "source": [
    "regularization_dict = {}\n",
    "error_dict = {}\n",
    "iterations=22\n",
    "\n",
    "for i in range(1,10):\n",
    "    model = AdalineNetwork()\n",
    "    alpha = float(\"{0:.10f}\".format(i/10))\n",
    "    learning_rate = compute_learning_rate(iterations,learning_rate=alpha,useIterations=False)\n",
    "    model.train(s,targets,iterations,learning_rate=learning_rate)"
   ]
  },
  {
   "cell_type": "code",
   "execution_count": 1201,
   "metadata": {
    "collapsed": false
   },
   "outputs": [
    {
     "data": {
      "image/png": "[encoded data removed]",
      "text/plain": [
       "<matplotlib.figure.Figure at 0x11b1672e8>"
      ]
     },
     "metadata": {},
     "output_type": "display_data"
    }
   ],
   "source": [
    "alpha = \"0.01-n\"\n",
    "plot_learning_curve(regularization_dict,alpha,save_to_file=True)\n",
    "#plot_error_curve(error_dict,'error'+alpha,save_to_file=True)\n"
   ]
  },
  {
   "cell_type": "markdown",
   "metadata": {},
   "source": [
    "<b>Using the optimal regularization parameters for training again </b>"
   ]
  },
  {
   "cell_type": "code",
   "execution_count": 1204,
   "metadata": {
    "collapsed": false
   },
   "outputs": [
    {
     "name": "stdout",
     "output_type": "stream",
     "text": [
      "Model Initialized with shapes, Weight Matrix (3, 2), Bias Vectcor (2, 1)\n",
      "Model Training for total iterations of: 22 at learning_rate: 0.0555\n",
      "\u001b[31mError observed at the end of batch size: 11 is :0.9723254744899108\u001b[0m\n",
      "\u001b[34mAccuracy observed for the batch of training set: 72.73\u001b[0m\n",
      "*******************************************************************************\n",
      "\u001b[31mError observed at the end of batch size: 11 is :0.5979787822001943\u001b[0m\n",
      "\u001b[34mAccuracy observed for the batch of training set: 100.00\u001b[0m\n",
      "*******************************************************************************\n",
      ".........Training concludes here...........\n",
      "Model Initialized with shapes, Weight Matrix (3, 2), Bias Vectcor (2, 1)\n",
      "Model Training for total iterations of: 22 at learning_rate: 0.0575\n",
      "\u001b[31mError observed at the end of batch size: 11 is :0.9682931092243908\u001b[0m\n",
      "\u001b[34mAccuracy observed for the batch of training set: 72.73\u001b[0m\n",
      "*******************************************************************************\n",
      "\u001b[31mError observed at the end of batch size: 11 is :0.6096966059575454\u001b[0m\n",
      "\u001b[34mAccuracy observed for the batch of training set: 100.00\u001b[0m\n",
      "*******************************************************************************\n",
      ".........Training concludes here...........\n",
      "Model Initialized with shapes, Weight Matrix (3, 2), Bias Vectcor (2, 1)\n",
      "Model Training for total iterations of: 22 at learning_rate: 0.060500000000000005\n",
      "\u001b[31mError observed at the end of batch size: 11 is :0.9643663791402833\u001b[0m\n",
      "\u001b[34mAccuracy observed for the batch of training set: 72.73\u001b[0m\n",
      "*******************************************************************************\n",
      "\u001b[31mError observed at the end of batch size: 11 is :0.6272715260575201\u001b[0m\n",
      "\u001b[34mAccuracy observed for the batch of training set: 100.00\u001b[0m\n",
      "*******************************************************************************\n",
      ".........Training concludes here...........\n",
      "Model Initialized with shapes, Weight Matrix (3, 2), Bias Vectcor (2, 1)\n",
      "Model Training for total iterations of: 22 at learning_rate: 0.0645\n",
      "\u001b[31mError observed at the end of batch size: 11 is :0.9628756616989502\u001b[0m\n",
      "\u001b[34mAccuracy observed for the batch of training set: 72.73\u001b[0m\n",
      "*******************************************************************************\n",
      "\u001b[31mError observed at the end of batch size: 11 is :0.6507743836579768\u001b[0m\n",
      "\u001b[34mAccuracy observed for the batch of training set: 100.00\u001b[0m\n",
      "*******************************************************************************\n",
      ".........Training concludes here...........\n",
      "Model Initialized with shapes, Weight Matrix (3, 2), Bias Vectcor (2, 1)\n",
      "Model Training for total iterations of: 22 at learning_rate: 0.0695\n",
      "\u001b[31mError observed at the end of batch size: 11 is :0.9666785616877808\u001b[0m\n",
      "\u001b[34mAccuracy observed for the batch of training set: 72.73\u001b[0m\n",
      "*******************************************************************************\n",
      "\u001b[31mError observed at the end of batch size: 11 is :0.6806166891184445\u001b[0m\n",
      "\u001b[34mAccuracy observed for the batch of training set: 100.00\u001b[0m\n",
      "*******************************************************************************\n",
      ".........Training concludes here...........\n",
      "Model Initialized with shapes, Weight Matrix (3, 2), Bias Vectcor (2, 1)\n",
      "Model Training for total iterations of: 22 at learning_rate: 0.07550000000000001\n",
      "\u001b[31mError observed at the end of batch size: 11 is :0.9791586408500437\u001b[0m\n",
      "\u001b[34mAccuracy observed for the batch of training set: 72.73\u001b[0m\n",
      "*******************************************************************************\n",
      "\u001b[31mError observed at the end of batch size: 11 is :0.7181415121115738\u001b[0m\n",
      "\u001b[34mAccuracy observed for the batch of training set: 90.91\u001b[0m\n",
      "*******************************************************************************\n",
      ".........Training concludes here...........\n",
      "Model Initialized with shapes, Weight Matrix (3, 2), Bias Vectcor (2, 1)\n",
      "Model Training for total iterations of: 22 at learning_rate: 0.08250000000000002\n",
      "\u001b[31mError observed at the end of batch size: 11 is :1.004477343303986\u001b[0m\n",
      "\u001b[34mAccuracy observed for the batch of training set: 72.73\u001b[0m\n",
      "*******************************************************************************\n",
      "\u001b[31mError observed at the end of batch size: 11 is :0.7667123794607081\u001b[0m\n",
      "\u001b[34mAccuracy observed for the batch of training set: 90.91\u001b[0m\n",
      "*******************************************************************************\n",
      ".........Training concludes here...........\n",
      "Model Initialized with shapes, Weight Matrix (3, 2), Bias Vectcor (2, 1)\n",
      "Model Training for total iterations of: 22 at learning_rate: 0.09050000000000002\n",
      "\u001b[31mError observed at the end of batch size: 11 is :1.0482065840760375\u001b[0m\n",
      "\u001b[34mAccuracy observed for the batch of training set: 72.73\u001b[0m\n",
      "*******************************************************************************\n",
      "\u001b[31mError observed at the end of batch size: 11 is :0.8336560989374455\u001b[0m\n",
      "\u001b[34mAccuracy observed for the batch of training set: 90.91\u001b[0m\n",
      "*******************************************************************************\n",
      ".........Training concludes here...........\n",
      "Model Initialized with shapes, Weight Matrix (3, 2), Bias Vectcor (2, 1)\n",
      "Model Training for total iterations of: 22 at learning_rate: 0.09950000000000002\n",
      "\u001b[31mError observed at the end of batch size: 11 is :1.1183400281045122\u001b[0m\n",
      "\u001b[34mAccuracy observed for the batch of training set: 63.64\u001b[0m\n",
      "*******************************************************************************\n",
      "\u001b[31mError observed at the end of batch size: 11 is :0.9337451363894641\u001b[0m\n",
      "\u001b[34mAccuracy observed for the batch of training set: 90.91\u001b[0m\n",
      "*******************************************************************************\n",
      ".........Training concludes here...........\n"
     ]
    }
   ],
   "source": [
    "iterations=22\n",
    "learning_rate = 0.0545\n",
    "for i in range(1,10,1):\n",
    "    model = AdalineNetwork()\n",
    "    learning_rate = learning_rate+(i/1000)\n",
    "    model.train(test_s,test_target,iterations,learning_rate=learning_rate)\n",
    "    \n",
    "\n"
   ]
  },
  {
   "cell_type": "code",
   "execution_count": 1206,
   "metadata": {
    "collapsed": false
   },
   "outputs": [
    {
     "data": {
      "image/png": "[encoded data removed]",
      "text/plain": [
       "<matplotlib.figure.Figure at 0x11b006e80>"
      ]
     },
     "metadata": {},
     "output_type": "display_data"
    }
   ],
   "source": [
    "alpha = \"0.01-exhaustive\"\n",
    "plot_learning_curve(regularization_dict,alpha,save_to_file=True)\n",
    "#plot_error_curve(error_dict,alpha,save_to_file=True)"
   ]
  },
  {
   "cell_type": "markdown",
   "metadata": {},
   "source": [
    "<b>Train Model with best learning_rate </b>"
   ]
  },
  {
   "cell_type": "code",
   "execution_count": 1208,
   "metadata": {
    "collapsed": false
   },
   "outputs": [
    {
     "name": "stdout",
     "output_type": "stream",
     "text": [
      "Model Initialized with shapes, Weight Matrix (3, 2), Bias Vectcor (2, 1)\n",
      "Model Training for total iterations of: 22 at learning_rate: 0.0555\n",
      "\u001b[31mError observed at the end of batch size: 11 is :0.9723254744899108\u001b[0m\n",
      "\u001b[34mAccuracy observed for the batch of training set: 72.73\u001b[0m\n",
      "*******************************************************************************\n",
      "\u001b[31mError observed at the end of batch size: 11 is :0.5979787822001943\u001b[0m\n",
      "\u001b[34mAccuracy observed for the batch of training set: 100.00\u001b[0m\n",
      "*******************************************************************************\n",
      ".........Training concludes here...........\n"
     ]
    }
   ],
   "source": [
    "iterations=22\n",
    "learning_rate = 0.0555\n",
    "model = AdalineNetwork()\n",
    "model.train(test_s,test_target,iterations,learning_rate=learning_rate)\n"
   ]
  },
  {
   "cell_type": "markdown",
   "metadata": {},
   "source": [
    "<b>Plotting Error trends for best convergence</b>"
   ]
  },
  {
   "cell_type": "code",
   "execution_count": 1209,
   "metadata": {
    "collapsed": false
   },
   "outputs": [
    {
     "name": "stdout",
     "output_type": "stream",
     "text": [
      "Model Training for total iterations of: 1000 at learning_rate: 0.055\n",
      "\u001b[31mError observed at the end of batch size: 11 is :0.613579070687895\u001b[0m\n",
      "\u001b[34mAccuracy observed for the batch of training set: 100.00\u001b[0m\n",
      "*******************************************************************************\n",
      "\u001b[31mError observed at the end of batch size: 11 is :0.6246961528064007\u001b[0m\n",
      "\u001b[34mAccuracy observed for the batch of training set: 100.00\u001b[0m\n",
      "*******************************************************************************\n",
      "\u001b[31mError observed at the end of batch size: 11 is :0.628225792000648\u001b[0m\n",
      "\u001b[34mAccuracy observed for the batch of training set: 100.00\u001b[0m\n",
      "*******************************************************************************\n",
      "\u001b[31mError observed at the end of batch size: 11 is :0.6292075180817541\u001b[0m\n",
      "\u001b[34mAccuracy observed for the batch of training set: 100.00\u001b[0m\n",
      "*******************************************************************************\n",
      "\u001b[31mError observed at the end of batch size: 11 is :0.6294708874501883\u001b[0m\n",
      "\u001b[34mAccuracy observed for the batch of training set: 100.00\u001b[0m\n",
      "*******************************************************************************\n",
      "\u001b[31mError observed at the end of batch size: 11 is :0.6295408878483416\u001b[0m\n",
      "\u001b[34mAccuracy observed for the batch of training set: 100.00\u001b[0m\n",
      "*******************************************************************************\n",
      "\u001b[31mError observed at the end of batch size: 11 is :0.6295594462900492\u001b[0m\n",
      "\u001b[34mAccuracy observed for the batch of training set: 100.00\u001b[0m\n",
      "*******************************************************************************\n",
      "\u001b[31mError observed at the end of batch size: 11 is :0.6295643630881114\u001b[0m\n",
      "\u001b[34mAccuracy observed for the batch of training set: 100.00\u001b[0m\n",
      "*******************************************************************************\n",
      "\u001b[31mError observed at the end of batch size: 11 is :0.6295656654763572\u001b[0m\n",
      "\u001b[34mAccuracy observed for the batch of training set: 100.00\u001b[0m\n",
      "*******************************************************************************\n",
      "\u001b[31mError observed at the end of batch size: 11 is :0.6295660104418545\u001b[0m\n",
      "\u001b[34mAccuracy observed for the batch of training set: 100.00\u001b[0m\n",
      "*******************************************************************************\n",
      "\u001b[31mError observed at the end of batch size: 11 is :0.6295661018120374\u001b[0m\n",
      "\u001b[34mAccuracy observed for the batch of training set: 100.00\u001b[0m\n",
      "*******************************************************************************\n",
      "\u001b[31mError observed at the end of batch size: 11 is :0.6295661260129398\u001b[0m\n",
      "\u001b[34mAccuracy observed for the batch of training set: 100.00\u001b[0m\n",
      "*******************************************************************************\n",
      "\u001b[31mError observed at the end of batch size: 11 is :0.6295661324229413\u001b[0m\n",
      "\u001b[34mAccuracy observed for the batch of training set: 100.00\u001b[0m\n",
      "*******************************************************************************\n",
      "\u001b[31mError observed at the end of batch size: 11 is :0.6295661341207337\u001b[0m\n",
      "\u001b[34mAccuracy observed for the batch of training set: 100.00\u001b[0m\n",
      "*******************************************************************************\n",
      "\u001b[31mError observed at the end of batch size: 11 is :0.6295661345704212\u001b[0m\n",
      "\u001b[34mAccuracy observed for the batch of training set: 100.00\u001b[0m\n",
      "*******************************************************************************\n",
      "\u001b[31mError observed at the end of batch size: 11 is :0.6295661346895284\u001b[0m\n",
      "\u001b[34mAccuracy observed for the batch of training set: 100.00\u001b[0m\n",
      "*******************************************************************************\n",
      "\u001b[31mError observed at the end of batch size: 11 is :0.6295661347210759\u001b[0m\n",
      "\u001b[34mAccuracy observed for the batch of training set: 100.00\u001b[0m\n",
      "*******************************************************************************\n",
      "\u001b[31mError observed at the end of batch size: 11 is :0.6295661347294316\u001b[0m\n",
      "\u001b[34mAccuracy observed for the batch of training set: 100.00\u001b[0m\n",
      "*******************************************************************************\n",
      "\u001b[31mError observed at the end of batch size: 11 is :0.6295661347316449\u001b[0m\n",
      "\u001b[34mAccuracy observed for the batch of training set: 100.00\u001b[0m\n",
      "*******************************************************************************\n",
      "\u001b[31mError observed at the end of batch size: 11 is :0.6295661347322311\u001b[0m\n",
      "\u001b[34mAccuracy observed for the batch of training set: 100.00\u001b[0m\n",
      "*******************************************************************************\n",
      "\u001b[31mError observed at the end of batch size: 11 is :0.6295661347323862\u001b[0m\n",
      "\u001b[34mAccuracy observed for the batch of training set: 100.00\u001b[0m\n",
      "*******************************************************************************\n",
      "\u001b[31mError observed at the end of batch size: 11 is :0.6295661347324273\u001b[0m\n",
      "\u001b[34mAccuracy observed for the batch of training set: 100.00\u001b[0m\n",
      "*******************************************************************************\n",
      "\u001b[31mError observed at the end of batch size: 11 is :0.6295661347324383\u001b[0m\n",
      "\u001b[34mAccuracy observed for the batch of training set: 100.00\u001b[0m\n",
      "*******************************************************************************\n",
      "\u001b[31mError observed at the end of batch size: 11 is :0.6295661347324412\u001b[0m\n",
      "\u001b[34mAccuracy observed for the batch of training set: 100.00\u001b[0m\n",
      "*******************************************************************************\n",
      "\u001b[31mError observed at the end of batch size: 11 is :0.6295661347324419\u001b[0m\n",
      "\u001b[34mAccuracy observed for the batch of training set: 100.00\u001b[0m\n",
      "*******************************************************************************\n",
      "\u001b[31mError observed at the end of batch size: 11 is :0.6295661347324423\u001b[0m\n",
      "\u001b[34mAccuracy observed for the batch of training set: 100.00\u001b[0m\n",
      "*******************************************************************************\n",
      "\u001b[31mError observed at the end of batch size: 11 is :0.6295661347324423\u001b[0m\n",
      "\u001b[34mAccuracy observed for the batch of training set: 100.00\u001b[0m\n",
      "*******************************************************************************\n",
      "\u001b[31mError observed at the end of batch size: 11 is :0.6295661347324423\u001b[0m\n",
      "\u001b[34mAccuracy observed for the batch of training set: 100.00\u001b[0m\n",
      "*******************************************************************************\n",
      "\u001b[31mError observed at the end of batch size: 11 is :0.6295661347324422\u001b[0m\n",
      "\u001b[34mAccuracy observed for the batch of training set: 100.00\u001b[0m\n",
      "*******************************************************************************\n",
      "\u001b[31mError observed at the end of batch size: 11 is :0.6295661347324422\u001b[0m\n",
      "\u001b[34mAccuracy observed for the batch of training set: 100.00\u001b[0m\n",
      "*******************************************************************************\n",
      "\u001b[31mError observed at the end of batch size: 11 is :0.6295661347324422\u001b[0m\n",
      "\u001b[34mAccuracy observed for the batch of training set: 100.00\u001b[0m\n",
      "*******************************************************************************\n",
      "\u001b[31mError observed at the end of batch size: 11 is :0.6295661347324422\u001b[0m\n",
      "\u001b[34mAccuracy observed for the batch of training set: 100.00\u001b[0m\n",
      "*******************************************************************************\n",
      "\u001b[31mError observed at the end of batch size: 11 is :0.6295661347324422\u001b[0m\n",
      "\u001b[34mAccuracy observed for the batch of training set: 100.00\u001b[0m\n",
      "*******************************************************************************\n",
      "\u001b[31mError observed at the end of batch size: 11 is :0.6295661347324422\u001b[0m\n",
      "\u001b[34mAccuracy observed for the batch of training set: 100.00\u001b[0m\n",
      "*******************************************************************************\n",
      "\u001b[31mError observed at the end of batch size: 11 is :0.6295661347324422\u001b[0m\n",
      "\u001b[34mAccuracy observed for the batch of training set: 100.00\u001b[0m\n",
      "*******************************************************************************\n",
      "\u001b[31mError observed at the end of batch size: 11 is :0.6295661347324422\u001b[0m\n",
      "\u001b[34mAccuracy observed for the batch of training set: 100.00\u001b[0m\n",
      "*******************************************************************************\n",
      "\u001b[31mError observed at the end of batch size: 11 is :0.6295661347324422\u001b[0m\n",
      "\u001b[34mAccuracy observed for the batch of training set: 100.00\u001b[0m\n",
      "*******************************************************************************\n",
      "\u001b[31mError observed at the end of batch size: 11 is :0.6295661347324422\u001b[0m\n",
      "\u001b[34mAccuracy observed for the batch of training set: 100.00\u001b[0m\n",
      "*******************************************************************************\n",
      "\u001b[31mError observed at the end of batch size: 11 is :0.6295661347324422\u001b[0m\n",
      "\u001b[34mAccuracy observed for the batch of training set: 100.00\u001b[0m\n",
      "*******************************************************************************\n",
      "\u001b[31mError observed at the end of batch size: 11 is :0.6295661347324422\u001b[0m\n",
      "\u001b[34mAccuracy observed for the batch of training set: 100.00\u001b[0m\n",
      "*******************************************************************************\n",
      "\u001b[31mError observed at the end of batch size: 11 is :0.6295661347324422\u001b[0m\n",
      "\u001b[34mAccuracy observed for the batch of training set: 100.00\u001b[0m\n",
      "*******************************************************************************\n",
      "\u001b[31mError observed at the end of batch size: 11 is :0.6295661347324422\u001b[0m\n",
      "\u001b[34mAccuracy observed for the batch of training set: 100.00\u001b[0m\n",
      "*******************************************************************************\n",
      "\u001b[31mError observed at the end of batch size: 11 is :0.6295661347324422\u001b[0m\n",
      "\u001b[34mAccuracy observed for the batch of training set: 100.00\u001b[0m\n",
      "*******************************************************************************\n",
      "\u001b[31mError observed at the end of batch size: 11 is :0.6295661347324422\u001b[0m\n",
      "\u001b[34mAccuracy observed for the batch of training set: 100.00\u001b[0m\n",
      "*******************************************************************************\n",
      "\u001b[31mError observed at the end of batch size: 11 is :0.6295661347324422\u001b[0m\n",
      "\u001b[34mAccuracy observed for the batch of training set: 100.00\u001b[0m\n",
      "*******************************************************************************\n",
      "\u001b[31mError observed at the end of batch size: 11 is :0.6295661347324422\u001b[0m\n",
      "\u001b[34mAccuracy observed for the batch of training set: 100.00\u001b[0m\n",
      "*******************************************************************************\n",
      "\u001b[31mError observed at the end of batch size: 11 is :0.6295661347324422\u001b[0m\n",
      "\u001b[34mAccuracy observed for the batch of training set: 100.00\u001b[0m\n",
      "*******************************************************************************\n",
      "\u001b[31mError observed at the end of batch size: 11 is :0.6295661347324422\u001b[0m\n",
      "\u001b[34mAccuracy observed for the batch of training set: 100.00\u001b[0m\n",
      "*******************************************************************************\n",
      "\u001b[31mError observed at the end of batch size: 11 is :0.6295661347324422\u001b[0m\n",
      "\u001b[34mAccuracy observed for the batch of training set: 100.00\u001b[0m\n",
      "*******************************************************************************\n",
      "\u001b[31mError observed at the end of batch size: 11 is :0.6295661347324422\u001b[0m\n",
      "\u001b[34mAccuracy observed for the batch of training set: 100.00\u001b[0m\n",
      "*******************************************************************************\n",
      "\u001b[31mError observed at the end of batch size: 11 is :0.6295661347324422\u001b[0m\n",
      "\u001b[34mAccuracy observed for the batch of training set: 100.00\u001b[0m\n",
      "*******************************************************************************\n",
      "\u001b[31mError observed at the end of batch size: 11 is :0.6295661347324422\u001b[0m\n",
      "\u001b[34mAccuracy observed for the batch of training set: 100.00\u001b[0m\n",
      "*******************************************************************************\n",
      "\u001b[31mError observed at the end of batch size: 11 is :0.6295661347324422\u001b[0m\n",
      "\u001b[34mAccuracy observed for the batch of training set: 100.00\u001b[0m\n",
      "*******************************************************************************\n",
      "\u001b[31mError observed at the end of batch size: 11 is :0.6295661347324422\u001b[0m\n",
      "\u001b[34mAccuracy observed for the batch of training set: 100.00\u001b[0m\n",
      "*******************************************************************************\n",
      "\u001b[31mError observed at the end of batch size: 11 is :0.6295661347324422\u001b[0m\n",
      "\u001b[34mAccuracy observed for the batch of training set: 100.00\u001b[0m\n",
      "*******************************************************************************\n",
      "\u001b[31mError observed at the end of batch size: 11 is :0.6295661347324422\u001b[0m\n",
      "\u001b[34mAccuracy observed for the batch of training set: 100.00\u001b[0m\n",
      "*******************************************************************************\n",
      "\u001b[31mError observed at the end of batch size: 11 is :0.6295661347324422\u001b[0m\n",
      "\u001b[34mAccuracy observed for the batch of training set: 100.00\u001b[0m\n",
      "*******************************************************************************\n",
      "\u001b[31mError observed at the end of batch size: 11 is :0.6295661347324422\u001b[0m\n",
      "\u001b[34mAccuracy observed for the batch of training set: 100.00\u001b[0m\n",
      "*******************************************************************************\n",
      "\u001b[31mError observed at the end of batch size: 11 is :0.6295661347324422\u001b[0m\n",
      "\u001b[34mAccuracy observed for the batch of training set: 100.00\u001b[0m\n",
      "*******************************************************************************\n",
      "\u001b[31mError observed at the end of batch size: 11 is :0.6295661347324422\u001b[0m\n",
      "\u001b[34mAccuracy observed for the batch of training set: 100.00\u001b[0m\n",
      "*******************************************************************************\n",
      "\u001b[31mError observed at the end of batch size: 11 is :0.6295661347324422\u001b[0m\n",
      "\u001b[34mAccuracy observed for the batch of training set: 100.00\u001b[0m\n",
      "*******************************************************************************\n",
      "\u001b[31mError observed at the end of batch size: 11 is :0.6295661347324422\u001b[0m\n",
      "\u001b[34mAccuracy observed for the batch of training set: 100.00\u001b[0m\n",
      "*******************************************************************************\n",
      "\u001b[31mError observed at the end of batch size: 11 is :0.6295661347324422\u001b[0m\n",
      "\u001b[34mAccuracy observed for the batch of training set: 100.00\u001b[0m\n",
      "*******************************************************************************\n",
      "\u001b[31mError observed at the end of batch size: 11 is :0.6295661347324422\u001b[0m\n",
      "\u001b[34mAccuracy observed for the batch of training set: 100.00\u001b[0m\n",
      "*******************************************************************************\n",
      "\u001b[31mError observed at the end of batch size: 11 is :0.6295661347324422\u001b[0m\n",
      "\u001b[34mAccuracy observed for the batch of training set: 100.00\u001b[0m\n",
      "*******************************************************************************\n",
      "\u001b[31mError observed at the end of batch size: 11 is :0.6295661347324422\u001b[0m\n",
      "\u001b[34mAccuracy observed for the batch of training set: 100.00\u001b[0m\n",
      "*******************************************************************************\n",
      "\u001b[31mError observed at the end of batch size: 11 is :0.6295661347324422\u001b[0m\n",
      "\u001b[34mAccuracy observed for the batch of training set: 100.00\u001b[0m\n",
      "*******************************************************************************\n",
      "\u001b[31mError observed at the end of batch size: 11 is :0.6295661347324422\u001b[0m\n",
      "\u001b[34mAccuracy observed for the batch of training set: 100.00\u001b[0m\n",
      "*******************************************************************************\n",
      "\u001b[31mError observed at the end of batch size: 11 is :0.6295661347324422\u001b[0m\n",
      "\u001b[34mAccuracy observed for the batch of training set: 100.00\u001b[0m\n",
      "*******************************************************************************\n",
      "\u001b[31mError observed at the end of batch size: 11 is :0.6295661347324422\u001b[0m\n",
      "\u001b[34mAccuracy observed for the batch of training set: 100.00\u001b[0m\n",
      "*******************************************************************************\n",
      "\u001b[31mError observed at the end of batch size: 11 is :0.6295661347324422\u001b[0m\n",
      "\u001b[34mAccuracy observed for the batch of training set: 100.00\u001b[0m\n",
      "*******************************************************************************\n",
      "\u001b[31mError observed at the end of batch size: 11 is :0.6295661347324422\u001b[0m\n",
      "\u001b[34mAccuracy observed for the batch of training set: 100.00\u001b[0m\n",
      "*******************************************************************************\n",
      "\u001b[31mError observed at the end of batch size: 11 is :0.6295661347324422\u001b[0m\n",
      "\u001b[34mAccuracy observed for the batch of training set: 100.00\u001b[0m\n",
      "*******************************************************************************\n",
      "\u001b[31mError observed at the end of batch size: 11 is :0.6295661347324422\u001b[0m\n",
      "\u001b[34mAccuracy observed for the batch of training set: 100.00\u001b[0m\n",
      "*******************************************************************************\n",
      "\u001b[31mError observed at the end of batch size: 11 is :0.6295661347324422\u001b[0m\n",
      "\u001b[34mAccuracy observed for the batch of training set: 100.00\u001b[0m\n",
      "*******************************************************************************\n",
      "\u001b[31mError observed at the end of batch size: 11 is :0.6295661347324422\u001b[0m\n",
      "\u001b[34mAccuracy observed for the batch of training set: 100.00\u001b[0m\n",
      "*******************************************************************************\n",
      "\u001b[31mError observed at the end of batch size: 11 is :0.6295661347324422\u001b[0m\n",
      "\u001b[34mAccuracy observed for the batch of training set: 100.00\u001b[0m\n",
      "*******************************************************************************\n",
      "\u001b[31mError observed at the end of batch size: 11 is :0.6295661347324422\u001b[0m\n",
      "\u001b[34mAccuracy observed for the batch of training set: 100.00\u001b[0m\n",
      "*******************************************************************************\n",
      "\u001b[31mError observed at the end of batch size: 11 is :0.6295661347324422\u001b[0m\n",
      "\u001b[34mAccuracy observed for the batch of training set: 100.00\u001b[0m\n",
      "*******************************************************************************\n",
      "\u001b[31mError observed at the end of batch size: 11 is :0.6295661347324422\u001b[0m\n",
      "\u001b[34mAccuracy observed for the batch of training set: 100.00\u001b[0m\n",
      "*******************************************************************************\n",
      "\u001b[31mError observed at the end of batch size: 11 is :0.6295661347324422\u001b[0m\n",
      "\u001b[34mAccuracy observed for the batch of training set: 100.00\u001b[0m\n",
      "*******************************************************************************\n",
      "\u001b[31mError observed at the end of batch size: 11 is :0.6295661347324422\u001b[0m\n",
      "\u001b[34mAccuracy observed for the batch of training set: 100.00\u001b[0m\n",
      "*******************************************************************************\n",
      "\u001b[31mError observed at the end of batch size: 11 is :0.6295661347324422\u001b[0m\n",
      "\u001b[34mAccuracy observed for the batch of training set: 100.00\u001b[0m\n",
      "*******************************************************************************\n",
      "\u001b[31mError observed at the end of batch size: 11 is :0.6295661347324422\u001b[0m\n",
      "\u001b[34mAccuracy observed for the batch of training set: 100.00\u001b[0m\n",
      "*******************************************************************************\n",
      "\u001b[31mError observed at the end of batch size: 11 is :0.6295661347324422\u001b[0m\n",
      "\u001b[34mAccuracy observed for the batch of training set: 100.00\u001b[0m\n",
      "*******************************************************************************\n",
      "\u001b[31mError observed at the end of batch size: 11 is :0.6295661347324422\u001b[0m\n",
      "\u001b[34mAccuracy observed for the batch of training set: 100.00\u001b[0m\n",
      "*******************************************************************************\n",
      "\u001b[31mError observed at the end of batch size: 11 is :0.6295661347324422\u001b[0m\n",
      "\u001b[34mAccuracy observed for the batch of training set: 100.00\u001b[0m\n",
      "*******************************************************************************\n",
      "\u001b[31mError observed at the end of batch size: 11 is :0.6295661347324422\u001b[0m\n",
      "\u001b[34mAccuracy observed for the batch of training set: 100.00\u001b[0m\n",
      "*******************************************************************************\n",
      "\u001b[31mError observed at the end of batch size: 11 is :0.6295661347324422\u001b[0m\n",
      "\u001b[34mAccuracy observed for the batch of training set: 100.00\u001b[0m\n",
      "*******************************************************************************\n",
      "\u001b[31mError observed at the end of batch size: 11 is :0.6295661347324422\u001b[0m\n",
      "\u001b[34mAccuracy observed for the batch of training set: 100.00\u001b[0m\n",
      "*******************************************************************************\n",
      ".........Training concludes here...........\n"
     ]
    }
   ],
   "source": [
    "regularization_dict = {}\n",
    "error_dict = {}\n",
    "iterations=1000\n",
    "learning_rate = 0.055\n",
    "model.train(test_s,test_target,iterations,learning_rate=learning_rate,is_variable_input=None)\n"
   ]
  },
  {
   "cell_type": "code",
   "execution_count": 1210,
   "metadata": {
    "collapsed": false
   },
   "outputs": [
    {
     "data": {
      "image/png": "[encoded data removed]",
      "text/plain": [
       "<matplotlib.figure.Figure at 0x119f27f98>"
      ]
     },
     "metadata": {},
     "output_type": "display_data"
    }
   ],
   "source": [
    "label = \"patterns\"\n",
    "plot_error_curve(error_dict,label,save_to_file=False)\n"
   ]
  },
  {
   "cell_type": "markdown",
   "metadata": {},
   "source": [
    "<b>Test for various patterns in the training set </b>"
   ]
  },
  {
   "cell_type": "code",
   "execution_count": 1212,
   "metadata": {
    "collapsed": false
   },
   "outputs": [
    {
     "name": "stdout",
     "output_type": "stream",
     "text": [
      "Model Training for total iterations of: 11 at learning_rate: 0.055\n",
      "Training for input s8 changed to [-2  1  1]\n",
      "\u001b[31mError observed at the end of batch size: 11 is :0.6195311390655583\u001b[0m\n",
      "\u001b[34mAccuracy observed for the batch of training set: 100.00\u001b[0m\n",
      "*******************************************************************************\n",
      ".........Training concludes here...........\n",
      "Model Training for total iterations of: 11 at learning_rate: 0.055\n",
      "Training for input s8 changed to [-1  1  1]\n",
      "\u001b[31mError observed at the end of batch size: 11 is :0.6319126834983352\u001b[0m\n",
      "\u001b[34mAccuracy observed for the batch of training set: 100.00\u001b[0m\n",
      "*******************************************************************************\n",
      ".........Training concludes here...........\n",
      "Model Training for total iterations of: 11 at learning_rate: 0.055\n",
      "Training for input s8 changed to [0 1 1]\n",
      "\u001b[31mError observed at the end of batch size: 11 is :0.7511983866491918\u001b[0m\n",
      "\u001b[34mAccuracy observed for the batch of training set: 100.00\u001b[0m\n",
      "*******************************************************************************\n",
      ".........Training concludes here...........\n",
      "Model Training for total iterations of: 11 at learning_rate: 0.055\n",
      "Training for input s8 changed to [1 1 1]\n",
      "\u001b[31mError observed at the end of batch size: 11 is :0.971496387322846\u001b[0m\n",
      "\u001b[34mAccuracy observed for the batch of training set: 72.73\u001b[0m\n",
      "*******************************************************************************\n",
      ".........Training concludes here...........\n",
      "Model Training for total iterations of: 11 at learning_rate: 0.055\n",
      "Training for input s8 changed to [2 1 1]\n",
      "\u001b[31mError observed at the end of batch size: 11 is :1.4042982197678897\u001b[0m\n",
      "\u001b[34mAccuracy observed for the batch of training set: 72.73\u001b[0m\n",
      "*******************************************************************************\n",
      ".........Training concludes here...........\n",
      "Model Training for total iterations of: 11 at learning_rate: 0.055\n",
      "Training for input s8 changed to [3 1 1]\n",
      "\u001b[31mError observed at the end of batch size: 11 is :2.249185930348182\u001b[0m\n",
      "\u001b[34mAccuracy observed for the batch of training set: 63.64\u001b[0m\n",
      "*******************************************************************************\n",
      ".........Training concludes here...........\n",
      "Model Training for total iterations of: 11 at learning_rate: 0.055\n",
      "Training for input s8 changed to [4 1 1]\n",
      "\u001b[31mError observed at the end of batch size: 11 is :3.8862088716479453\u001b[0m\n",
      "\u001b[34mAccuracy observed for the batch of training set: 36.36\u001b[0m\n",
      "*******************************************************************************\n",
      ".........Training concludes here...........\n",
      "Model Training for total iterations of: 11 at learning_rate: 0.055\n",
      "Training for input s8 changed to [5 1 1]\n",
      "\u001b[31mError observed at the end of batch size: 11 is :6.975929151099146\u001b[0m\n",
      "\u001b[34mAccuracy observed for the batch of training set: 36.36\u001b[0m\n",
      "*******************************************************************************\n",
      ".........Training concludes here...........\n",
      "Model Training for total iterations of: 11 at learning_rate: 0.055\n",
      "Training for input s8 changed to [6 1 1]\n",
      "\u001b[31mError observed at the end of batch size: 11 is :12.576503110282186\u001b[0m\n",
      "\u001b[34mAccuracy observed for the batch of training set: 36.36\u001b[0m\n",
      "*******************************************************************************\n",
      ".........Training concludes here...........\n",
      "Model Training for total iterations of: 11 at learning_rate: 0.055\n",
      "Training for input s8 changed to [7 1 1]\n",
      "\u001b[31mError observed at the end of batch size: 11 is :22.26400952488899\u001b[0m\n",
      "\u001b[34mAccuracy observed for the batch of training set: 27.27\u001b[0m\n",
      "*******************************************************************************\n",
      ".........Training concludes here...........\n",
      "Model Training for total iterations of: 11 at learning_rate: 0.055\n",
      "Training for input s8 changed to [8 1 1]\n",
      "\u001b[31mError observed at the end of batch size: 11 is :38.221628159479636\u001b[0m\n",
      "\u001b[34mAccuracy observed for the batch of training set: 18.18\u001b[0m\n",
      "*******************************************************************************\n",
      ".........Training concludes here...........\n",
      "Model Training for total iterations of: 11 at learning_rate: 0.055\n",
      "Training for input s8 changed to [9 1 1]\n",
      "\u001b[31mError observed at the end of batch size: 11 is :63.23770270112039\u001b[0m\n",
      "\u001b[34mAccuracy observed for the batch of training set: 18.18\u001b[0m\n",
      "*******************************************************************************\n",
      ".........Training concludes here...........\n"
     ]
    }
   ],
   "source": [
    "iterations=1\n",
    "learning_rate = 0.055\n",
    "variable_input_dict={}\n",
    "error_dict = {}\n",
    "for i in range(-2,10,1):\n",
    "    s_new = copy.copy(s)\n",
    "    s_new[:,7][0]=i\n",
    "    model.train(s_new,targets,iterations,learning_rate=learning_rate,is_variable_input=True)\n"
   ]
  },
  {
   "cell_type": "code",
   "execution_count": 1213,
   "metadata": {
    "collapsed": false
   },
   "outputs": [
    {
     "data": {
      "image/png": "[encoded data removed]",
      "text/plain": [
       "<matplotlib.figure.Figure at 0x11b3300f0>"
      ]
     },
     "metadata": {},
     "output_type": "display_data"
    },
    {
     "data": {
      "image/png": "[encoded data removed]",
      "text/plain": [
       "<matplotlib.figure.Figure at 0x11b3305f8>"
      ]
     },
     "metadata": {},
     "output_type": "display_data"
    }
   ],
   "source": [
    "alpha = \"variable_inputs\"\n",
    "plot_learning_curve(variable_input_dict,alpha,save_to_file=True)\n",
    "plot_error_curve(error_dict,alpha,save_to_file=True)\n"
   ]
  },
  {
   "cell_type": "code",
   "execution_count": 1215,
   "metadata": {
    "collapsed": true
   },
   "outputs": [],
   "source": [
    "#Reset the dictionary values\n",
    "regularization_dict={}\n",
    "error_dict = {}"
   ]
  }
 ],
 "metadata": {
  "kernelspec": {
   "display_name": "Python 3",
   "language": "python",
   "name": "python3"
  },
  "language_info": {
   "codemirror_mode": {
    "name": "ipython",
    "version": 3
   },
   "file_extension": ".py",
   "mimetype": "text/x-python",
   "name": "python",
   "nbconvert_exporter": "python",
   "pygments_lexer": "ipython3",
   "version": "3.6.1"
  }
 },
 "nbformat": 4,
 "nbformat_minor": 2
}
