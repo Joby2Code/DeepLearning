{
 "cells": [
  {
   "cell_type": "markdown",
   "metadata": {},
   "source": [
    "<h2> An implementation of Associative Neural Network using Discrete HopField Net</h2>"
   ]
  },
  {
   "cell_type": "code",
   "execution_count": null,
   "metadata": {
    "collapsed": true
   },
   "outputs": [],
   "source": [
    "import numpy as np\n",
    "import copy\n",
    "import random"
   ]
  },
  {
   "cell_type": "code",
   "execution_count": null,
   "metadata": {
    "collapsed": true
   },
   "outputs": [],
   "source": [
    "input_list = [[1,1,-1,-1,-1,1],[1,-1,-1,1,-1,-1],[-1,-1,1,1,1,-1],[-1,1,1,-1,1,1]]"
   ]
  },
  {
   "cell_type": "code",
   "execution_count": null,
   "metadata": {
    "collapsed": false
   },
   "outputs": [],
   "source": [
    "#s = np.array(([1,1,-1,-1,-1,1],[1,-1,-1,1,-1,-1],[-1,-1,1,1,1,-1],[-1,1,1,-1,1,1]))\n",
    "s = np.asarray(input_list)\n",
    "t = s.T\n",
    "print('Shapes- Input {}, Output {}'.format(s.shape,t.shape))"
   ]
  },
  {
   "cell_type": "code",
   "execution_count": null,
   "metadata": {
    "collapsed": false
   },
   "outputs": [],
   "source": [
    "dimensions = [s.shape[1],t.shape[0]]\n",
    "print(dimensions)"
   ]
  },
  {
   "cell_type": "code",
   "execution_count": null,
   "metadata": {
    "collapsed": false
   },
   "outputs": [],
   "source": [
    "class NeuralNetwork:\n",
    "    def __init__(self,dimensions):\n",
    "        '''\n",
    "        Initializing the weight vectors\n",
    "        '''\n",
    "        self.parameters = {}\n",
    "        self.basin_state_dict = {}\n",
    "        self.parameters['W'] = np.zeros([dimensions[0],dimensions[1]])\n",
    "        print('Weight Matrix defined as {}'.format(self.parameters[\"W\"].shape))\n",
    "    \n",
    "    def compute_weight(self,X,t):\n",
    "        '''\n",
    "        Weight is calculated using the Hebb's rule\n",
    "        '''\n",
    "        dw = np.dot(t,X)\n",
    "        np.fill_diagonal(dw,0)\n",
    "        dw = dw.astype(int)\n",
    "        return dw\n",
    "    \n",
    "    def train(self,S,t):\n",
    "        dw = self.compute_weight(S,t)\n",
    "        self.parameters['W'] = self.parameters['W']+dw\n",
    "    \n",
    "    def compute_sum(self,order,y):\n",
    "        W = self.parameters['W']\n",
    "        total = 0;\n",
    "        for i in range(0,len(y)):\n",
    "            #print('Weight {}'.format(W[i][order]))\n",
    "            total = total+(y[i]*W[i][order])\n",
    "        \n",
    "        return total;\n",
    "                           \n",
    "    def activate(self,yin,order,y):\n",
    "        theta = 0;\n",
    "        if yin > theta:\n",
    "            yi = 1\n",
    "        elif yin < theta:\n",
    "            yi = -1\n",
    "        elif yin == 0:\n",
    "            y = y[order]\n",
    "        \n",
    "        y[order] = yi\n",
    "        #print('post activate',y)\n",
    "        return y\n",
    "    \n",
    "    def _check_basin_state(self,x,y,y_old,index):\n",
    "        basin_map = self.basin_state_dict\n",
    "        y_copy = copy.copy(y)\n",
    "        if y != y_old:\n",
    "            #print(x,y)\n",
    "            if index in basin_map:\n",
    "                basin_map[index].append(y_copy)\n",
    "            else:\n",
    "                basin_list=[]\n",
    "                basin_list.append(y_copy)\n",
    "                basin_map[index]=basin_list\n",
    "        \n",
    "        self.basin_state_dict = basin_map\n",
    "        \n",
    "    def compute_net_input(self,order,x,y,y_old,basin_index):\n",
    "        #print('pre activate',y)\n",
    "        total = self.compute_sum(order,y)\n",
    "        yin = x[order]+total\n",
    "        #print(\"order {},total {},x[order]: {},y[order]: {},yin: {},y-- {}\".format(order,total,x[order],y[order],yin,y))\n",
    "        y = self.activate(yin,order,y)\n",
    "        #print(\"order {},total {},x[order]: {},y[order]: {},yin: {},y-- {}\".format(order,total,x[order],y[order],yin,y))\n",
    "        self._check_basin_state(x,y,y_old,basin_index)\n",
    "        \n",
    "        return y\n",
    "                           \n",
    "        \n",
    "    def get_association(self,X,read_order):\n",
    "        index = 0;\n",
    "        assocations = []\n",
    "        while index < len(X):\n",
    "            x = X[index]\n",
    "            #x = [-1,-1,1,1,1,1]\n",
    "            y = copy.copy(x)\n",
    "            #print(\"Before Index->{}.....x: {}, y: {}\".format(index,x,y)) \n",
    "            repeat_counter = 0\n",
    "            random_number_list = []\n",
    "            while repeat_counter < 1:\n",
    "                y_old = copy.copy(y)\n",
    "                random_number_list.clear()\n",
    "                for i in range(len(x)):\n",
    "                    '''\n",
    "                    rand_flag = True\n",
    "                    while rand_flag == True:\n",
    "                        rand_num =random.randint(0,5)\n",
    "                        if rand_num not in random_number_list:\n",
    "                            random_number_list.append(rand_num)\n",
    "                            rand_flag = False\n",
    "                        else:\n",
    "                            #print('repeat',rand_num)\n",
    "                            rand_flag = True\n",
    "                    #print('index',rand_num,random_number_list)\n",
    "                    '''\n",
    "                    rand_num =random.randint(0,5)\n",
    "                    y = self.compute_net_input(read_order[rand_num],x,y,y_old,index)\n",
    "                if y != y_old:\n",
    "                    #print('unstable.. y_old {},y_changed {}, x_input {},index {},repeat_counter {},random {}'.format(y_old,y,x,i,repeat_counter,rand_num))\n",
    "                    print('unstable.. y_old {},y_changed {}, x_input {}'.format(y_old,y,x))\n",
    "                    repeat_counter = 0\n",
    "                else:\n",
    "                    #print('stable.. y_old {},y_changed {}, x_input {},index {},repeat_counter {},random {}'.format(y_old,y,x,i,repeat_counter,rand_num))\n",
    "                    print('stable.. y_old {},y_changed {}, x_input {}'.format(y_old,y,x))\n",
    "                    repeat_counter = 1\n",
    "                     \n",
    "        \n",
    "            #print(\"After  Index->{}.....x: {}, y: {}\".format(index,x,y))                             \n",
    "            assocations.append(y)\n",
    "            index = index+1\n",
    "        return assocations"
   ]
  },
  {
   "cell_type": "code",
   "execution_count": null,
   "metadata": {
    "collapsed": true
   },
   "outputs": [],
   "source": [
    "def combinationsByKFlip(vector,start,k,end,combination_list,result_list):\n",
    "    '''\n",
    "    Create bipolar input vector set\n",
    "    '''\n",
    "    if vector not in combination_list:\n",
    "        combination_list.insert(start,vector)\n",
    "        \n",
    "    \n",
    "    if k == 0:\n",
    "        result_list.append(vector)\n",
    "        return result_list\n",
    "    \n",
    "    for i in range(start,end):\n",
    "        vector = _flipElement(vector,i)\n",
    "        combinationsByKFlip(vector,i+1,k-1,end,combination_list,result_list)\n",
    "        vector =  combination_list[start]\n",
    "   \n",
    "    return result_list\n",
    "\n",
    "\n",
    "def _flipElement(vector,i):\n",
    "    vectorCopy = copy.copy(vector)\n",
    "    if vector[i] == 1:\n",
    "        vectorCopy[i] = -1\n",
    "    elif vector[i] == -1:\n",
    "        vectorCopy[i] = 1\n",
    "    elif vector[i] == 0:\n",
    "        vectorCopy[i] = 0\n",
    "    return vectorCopy"
   ]
  },
  {
   "cell_type": "code",
   "execution_count": null,
   "metadata": {
    "collapsed": false
   },
   "outputs": [],
   "source": [
    "input_vector = [1,1,-1,-1,-1,1]\n",
    "bipolar_input = []\n",
    "for i in range(0,len(input_vector)+1):\n",
    "    start = 0\n",
    "    end = len(input_vector)\n",
    "    combination_list = []\n",
    "    result_list = []\n",
    "    result = combinationsByKFlip(input_vector,start,i,end,combination_list,result_list)\n",
    "    bipolar_input.extend(result)\n"
   ]
  },
  {
   "cell_type": "markdown",
   "metadata": {},
   "source": [
    "<b>Helper Functions to create list distinctions and validations</b>"
   ]
  },
  {
   "cell_type": "code",
   "execution_count": null,
   "metadata": {
    "collapsed": false
   },
   "outputs": [],
   "source": [
    "#Validate if all the training data are present\n",
    "\n",
    "def validate_list(input_list,generated_list):\n",
    "    #print(generated_list)\n",
    "    for x in map(lambda u:u,filter(lambda x:x in input_list,generated_list)):\n",
    "        print (x)\n",
    "\n",
    "def check_stored_states(input_list,generated_list):\n",
    "    stored_collection = []\n",
    "    for x in map(lambda u:u,filter(lambda x:x in input_list,generated_list)):\n",
    "        stored_collection.append(x)\n",
    "    \n",
    "    return stored_collection\n",
    "\n",
    "def retreive_collections(input_list, association_list, splitby=None):\n",
    "    '''\n",
    "    function to split based on equiibrium or order or basin\n",
    "    '''\n",
    "    equilibrium = []\n",
    "    spurious = []  \n",
    "    if splitby == 'equilibrium':\n",
    "        for x in association_list:\n",
    "            if x in input_list:\n",
    "                #print(x)\n",
    "                equilibrium.append(x)\n",
    "            else:\n",
    "                spurious.append(x)\n",
    "    else:\n",
    "        pass\n",
    "    \n",
    "    return equilibrium,spurious\n",
    "\n",
    "\n",
    "def create_reversed_state(states):\n",
    "    reversed_list=[]\n",
    "    for state in states:\n",
    "        temp = copy.copy(state)\n",
    "        i = 0\n",
    "        while i < len(temp):\n",
    "            if(temp[i] == -1):\n",
    "                temp[i] = 1\n",
    "            else:\n",
    "                temp[i] = -1\n",
    "            \n",
    "            i = i+1\n",
    "        reversed_list.append(temp)\n",
    "    return reversed_list\n",
    "\n",
    "def edit_distance(input_list,bipolar_input):\n",
    "    max_dist = 6\n",
    "    dist_map = {}\n",
    "    #print(len(bipolar_input))\n",
    "    for state in bipolar_input:\n",
    "        temp = 6\n",
    "        \n",
    "        for j in range(0,len(input_list)):\n",
    "            dist = 0;\n",
    "            \n",
    "            for i in range(0,len(state)):\n",
    "                #print('i',i,state,input_list[j])\n",
    "                if state[i] != input_list[j][i]:\n",
    "                    dist = dist+1\n",
    "                    #print(state,input_list[j],dist)\n",
    "            \n",
    "            if dist < temp:\n",
    "                #print('temp',temp)\n",
    "                temp = dist\n",
    "            #print(temp)\n",
    "           \n",
    "            dist_map[ \" \".join(str(x) for x in state)] = temp\n",
    "        \n",
    "        if temp < max_dist:\n",
    "            max_dist = temp\n",
    "        #print('max',max_dist)\n",
    "                                         \n",
    "    return max_dist,dist_map"
   ]
  },
  {
   "cell_type": "code",
   "execution_count": null,
   "metadata": {
    "collapsed": false
   },
   "outputs": [],
   "source": [
    "validate_list(input_list,bipolar_input)"
   ]
  },
  {
   "cell_type": "code",
   "execution_count": null,
   "metadata": {
    "collapsed": false
   },
   "outputs": [],
   "source": [
    "f\"Total bipolar input combinations..{len(bipolar_input)}\""
   ]
  },
  {
   "cell_type": "code",
   "execution_count": null,
   "metadata": {
    "collapsed": false,
    "deletable": true,
    "editable": true
   },
   "outputs": [],
   "source": [
    "hopNet = NeuralNetwork(dimensions)\n",
    "hopNet.train(s,t)\n",
    "print('Weight Matrix \\n{}'.format(hopNet.parameters['W']))"
   ]
  },
  {
   "cell_type": "code",
   "execution_count": null,
   "metadata": {
    "collapsed": false
   },
   "outputs": [],
   "source": [
    "read_order = [4,5,0,1,2,3]\n",
    "associations_training_samples = hopNet.get_association(input_list,read_order)"
   ]
  },
  {
   "cell_type": "code",
   "execution_count": null,
   "metadata": {
    "collapsed": false
   },
   "outputs": [],
   "source": [
    "validate_list(input_list,associations_training_samples)"
   ]
  },
  {
   "cell_type": "code",
   "execution_count": null,
   "metadata": {
    "collapsed": false
   },
   "outputs": [],
   "source": [
    "associations_total_samples = hopNet.get_association(bipolar_input,read_order)"
   ]
  },
  {
   "cell_type": "code",
   "execution_count": null,
   "metadata": {
    "collapsed": false
   },
   "outputs": [],
   "source": [
    "#test_list = [[-1, 1, 1, 1, 1, -1],[-1, -1, 1, 1, 1, -1]]\n",
    "equilbrium,spurious = retreive_collections(input_list,associations_total_samples,splitby='equilibrium')\n",
    "print('Total number of states in the equilbrium state {}'.format(len(equilbrium)))\n",
    "print('Total number of states in the spurious state {}'.format(len(spurious)))"
   ]
  },
  {
   "cell_type": "code",
   "execution_count": null,
   "metadata": {
    "collapsed": false
   },
   "outputs": [],
   "source": [
    "#reversed_states = create_reversed_state([[1, -1, -1, -1, -1, 1], [1, 1, -1, -1, -1, 1]])\n",
    "reversed_states = create_reversed_state(spurious)\n",
    "stored = check_stored_states(input_list,reversed_states)\n",
    "#reversed_states = check_reversed_state(spurious)"
   ]
  },
  {
   "cell_type": "code",
   "execution_count": null,
   "metadata": {
    "collapsed": false
   },
   "outputs": [],
   "source": [
    "basin_map = hopNet.basin_state_dict"
   ]
  },
  {
   "cell_type": "code",
   "execution_count": null,
   "metadata": {
    "collapsed": false
   },
   "outputs": [],
   "source": [
    "for index in basin_map:\n",
    "    print(index)\n",
    "    last = len(basin_map[index])-1\n",
    "    print(basin_map[index][last])\n",
    "    print(basin_map[index])"
   ]
  },
  {
   "cell_type": "code",
   "execution_count": null,
   "metadata": {
    "collapsed": false
   },
   "outputs": [],
   "source": [
    "len(basin_map)"
   ]
  },
  {
   "cell_type": "code",
   "execution_count": null,
   "metadata": {
    "collapsed": true
   },
   "outputs": [],
   "source": [
    "convergence_map = {}\n",
    "for index in basin_map:\n",
    "    convergence_index = 0;\n",
    "    for state in basin_map[index]:\n",
    "        if state not in input_list:\n",
    "            convergence_index = convergence_index+1\n",
    "        else:\n",
    "            convergence_map[index] = (convergence_index,state,input_list[input_list.index(state)],input_list.index(state))\n",
    "            break"
   ]
  },
  {
   "cell_type": "code",
   "execution_count": null,
   "metadata": {
    "collapsed": false
   },
   "outputs": [],
   "source": [
    "convergence_freq = {}\n",
    "for key in convergence_map:\n",
    "    val = convergence_map[key]\n",
    "    #print(val[0],val[3],val[1])\n",
    "    field = val[3]\n",
    "    if field not in convergence_freq:\n",
    "        count = 1\n",
    "        convergence_freq[field] = count\n",
    "    else:\n",
    "        convergence_freq[field] = convergence_freq[field]+1\n",
    "        #print(field,convergence_freq[field])"
   ]
  },
  {
   "cell_type": "code",
   "execution_count": null,
   "metadata": {
    "collapsed": false
   },
   "outputs": [],
   "source": [
    "convergence_freq"
   ]
  },
  {
   "cell_type": "code",
   "execution_count": null,
   "metadata": {
    "collapsed": false
   },
   "outputs": [],
   "source": [
    "max_dist,dist_map = edit_distance(input_list,bipolar_input)"
   ]
  },
  {
   "cell_type": "code",
   "execution_count": null,
   "metadata": {
    "collapsed": false
   },
   "outputs": [],
   "source": [
    "max_dist,dist_map"
   ]
  }
 ],
 "metadata": {
  "kernelspec": {
   "display_name": "Python 3",
   "language": "python",
   "name": "python3"
  },
  "language_info": {
   "codemirror_mode": {
    "name": "ipython",
    "version": 3
   },
   "file_extension": ".py",
   "mimetype": "text/x-python",
   "name": "python",
   "nbconvert_exporter": "python",
   "pygments_lexer": "ipython3",
   "version": "3.6.1"
  }
 },
 "nbformat": 4,
 "nbformat_minor": 2
}
