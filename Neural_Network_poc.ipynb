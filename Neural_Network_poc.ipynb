{
 "cells": [
  {
   "cell_type": "code",
   "execution_count": null,
   "metadata": {
    "collapsed": false,
    "deletable": true,
    "editable": true
   },
   "outputs": [],
   "source": [
    "import torch \n",
    "import torchvision\n",
    "import torchvision.transforms as transforms \n"
   ]
  },
  {
   "cell_type": "markdown",
   "metadata": {
    "deletable": true,
    "editable": true
   },
   "source": [
    "Using the CIFAR 10 dataset \n",
    "https://www.cs.toronto.edu/~kriz/cifar.html"
   ]
  },
  {
   "cell_type": "code",
   "execution_count": null,
   "metadata": {
    "collapsed": true,
    "deletable": true,
    "editable": true
   },
   "outputs": [],
   "source": [
    "\n",
    "transform = transforms.Compose([ transforms.ToTensor () ,\n",
    "                            transforms.Normalize ((0.5 , 0.5 , 0.5) , (0.5 , 0.5 , 0.5) ) ])\n"
   ]
  },
  {
   "cell_type": "code",
   "execution_count": null,
   "metadata": {
    "collapsed": false,
    "deletable": true,
    "editable": true
   },
   "outputs": [],
   "source": [
    "trainset = torchvision . datasets .CIFAR10( root='./data', train=True ,\n",
    "            download=True , transform=transform ) \n",
    "testset = torchvision . datasets .CIFAR10( root='./data', train=False ,\n",
    "            download=True , transform=transform )"
   ]
  },
  {
   "cell_type": "code",
   "execution_count": null,
   "metadata": {
    "collapsed": false,
    "deletable": true,
    "editable": true
   },
   "outputs": [],
   "source": [
    "import pickle\n",
    "import os\n",
    "import numpy as np"
   ]
  },
  {
   "cell_type": "code",
   "execution_count": null,
   "metadata": {
    "collapsed": true
   },
   "outputs": [],
   "source": [
    "data_path = \"./data/\"\n",
    "########################################################################\n",
    "# Various constants for the size of the images.\n",
    "# Use these constants in your own program.\n",
    "\n",
    "# Width and height of each image.\n",
    "img_size = 32\n",
    "\n",
    "# Number of channels in each image, 3 channels: Red, Green, Blue.\n",
    "num_channels = 3\n",
    "\n",
    "# Length of an image when flattened to a 1-dim array.\n",
    "img_size_flat = img_size * img_size * num_channels\n",
    "\n",
    "# Number of classes.\n",
    "num_classes = 10\n",
    "\n",
    "########################################################################\n",
    "# Various constants used to allocate arrays of the correct size.\n",
    "\n",
    "# Number of files for the training-set.\n",
    "_num_files_train = 5\n",
    "\n",
    "# Number of images for each batch-file in the training-set.\n",
    "_images_per_file = 10000\n",
    "\n",
    "# Total number of images in the training-set.\n",
    "# This is used to pre-allocate arrays for efficiency.\n",
    "_num_images_train = _num_files_train * _images_per_file"
   ]
  },
  {
   "cell_type": "code",
   "execution_count": null,
   "metadata": {
    "collapsed": true
   },
   "outputs": [],
   "source": [
    "def _get_file_path(filename=\"\"):\n",
    "    \"\"\"\n",
    "    Return the full path of a data-file for the data-set.\n",
    "    If filename==\"\" then return the directory of the files.\n",
    "    \"\"\"\n",
    "\n",
    "    return os.path.join(data_path, \"cifar-10-batches-py/\", filename)"
   ]
  },
  {
   "cell_type": "code",
   "execution_count": null,
   "metadata": {
    "collapsed": true,
    "deletable": true,
    "editable": true
   },
   "outputs": [],
   "source": [
    "# Convert the data into a numpy array\n",
    "def _unpickle(filename):\n",
    "    \"\"\"\n",
    "    Unpickle the given file and return the data.\n",
    "    Note that the appropriate dir-name is prepended the filename.\n",
    "    \"\"\"\n",
    "\n",
    "    # Create full path for the file.\n",
    "    file_path = _get_file_path(filename)\n",
    "\n",
    "    print(\"Loading data: \" + file_path)\n",
    "\n",
    "    with open(file_path, mode='rb') as file:\n",
    "        # In Python 3.X it is important to set the encoding,\n",
    "        # otherwise an exception is raised here.\n",
    "        data = pickle.load(file, encoding='bytes')\n",
    "\n",
    "    return data\n"
   ]
  },
  {
   "cell_type": "code",
   "execution_count": null,
   "metadata": {
    "collapsed": true
   },
   "outputs": [],
   "source": [
    "def _convert_images(raw):\n",
    "    raw_float = np.array(raw,dtype=float)/255\n",
    "    #raw_float = np.array(raw,dtype=float)\n",
    "    #Reshape the image into 4 dimension\n",
    "    \n",
    "    images = raw_float.reshape([-1, num_channels, img_size, img_size])\n",
    "    images = images.transpose([0,2,3,1])\n",
    "    return images\n",
    "    \n",
    "    "
   ]
  },
  {
   "cell_type": "code",
   "execution_count": null,
   "metadata": {
    "collapsed": true
   },
   "outputs": [],
   "source": [
    "def one_hot_encoded(class_numbers, num_classes=None):\n",
    "    \"\"\"\n",
    "    Generate the One-Hot encoded class-labels from an array of integers.\n",
    "    For example, if class_number=2 and num_classes=4 then\n",
    "    the one-hot encoded label is the float array: [0. 0. 1. 0.]\n",
    "    :param class_numbers:\n",
    "        Array of integers with class-numbers.\n",
    "        Assume the integers are from zero to num_classes-1 inclusive.\n",
    "    :param num_classes:\n",
    "        Number of classes. If None then use max(class_numbers)+1.\n",
    "    :return:\n",
    "        2-dim array of shape: [len(class_numbers), num_classes]\n",
    "    \"\"\"\n",
    "\n",
    "    # Find the number of classes if None is provided.\n",
    "    # Assumes the lowest class-number is zero.\n",
    "    if num_classes is None:\n",
    "        num_classes = np.max(class_numbers) + 1\n",
    "\n",
    "    return np.eye(num_classes, dtype=float)[class_numbers]"
   ]
  },
  {
   "cell_type": "code",
   "execution_count": null,
   "metadata": {
    "collapsed": true
   },
   "outputs": [],
   "source": [
    "def _load_data(filename):\n",
    "    \"\"\"\n",
    "    Load a pickled data-file from the CIFAR-10 data-set\n",
    "    and return the converted images (see above) and the class-number\n",
    "    for each image.\n",
    "    \"\"\"\n",
    "\n",
    "    # Load the pickled data-file.\n",
    "    data = _unpickle(filename)\n",
    "\n",
    "    # Get the raw images.\n",
    "    images = data[b'data']\n",
    "\n",
    "    # Get the class-numbers for each image. Convert to numpy-array.\n",
    "    cls = np.array(data[b'labels'])\n",
    "    \n",
    "    images = _convert_images(images)\n",
    "\n",
    "    return images, cls"
   ]
  },
  {
   "cell_type": "code",
   "execution_count": null,
   "metadata": {
    "collapsed": false
   },
   "outputs": [],
   "source": [
    "def load_class_names():\n",
    "    \"\"\"\n",
    "    Load the names for the classes in the CIFAR-10 data-set.\n",
    "    Returns a list with the names. Example: names[3] is the name\n",
    "    associated with class-number 3.\n",
    "    \"\"\"\n",
    "\n",
    "    # Load the class-names from the pickled file.\n",
    "    raw = _unpickle(filename=\"batches.meta\")[b'label_names']\n",
    "\n",
    "    # Convert from binary strings.\n",
    "    names = [x.decode('utf-8') for x in raw]\n",
    "\n",
    "    return names"
   ]
  },
  {
   "cell_type": "code",
   "execution_count": null,
   "metadata": {
    "collapsed": true
   },
   "outputs": [],
   "source": [
    "def load_training_data():\n",
    "    \"\"\"\n",
    "    Load all the training-data for the CIFAR-10 data-set.\n",
    "    The data-set is split into 5 data-files which are merged here.\n",
    "    Returns the images, class-numbers and one-hot encoded class-labels.\n",
    "    \"\"\"\n",
    "\n",
    "    # Pre-allocate the arrays for the images and class-numbers for efficiency.\n",
    "    images = np.zeros(shape=[_num_images_train, img_size, img_size, num_channels], dtype=float)\n",
    "    cls = np.zeros(shape=[_num_images_train], dtype=int)\n",
    "\n",
    "    # Begin-index for the current batch.\n",
    "    begin = 0\n",
    "\n",
    "    # For each data-file.\n",
    "    for i in range(_num_files_train):\n",
    "        # Load the images and class-numbers from the data-file.\n",
    "        images_batch, cls_batch = _load_data(filename=\"data_batch_\" + str(i + 1))\n",
    "\n",
    "        # Number of images in this batch.\n",
    "        num_images = len(images_batch)\n",
    "\n",
    "        # End-index for the current batch.\n",
    "        end = begin + num_images\n",
    "        \n",
    "        print(end)\n",
    "        # Store the images into the array.\n",
    "        images[begin:end, :] = images_batch\n",
    "\n",
    "        # Store the class-numbers into the array.\n",
    "        cls[begin:end] = cls_batch\n",
    "\n",
    "        # The begin-index for the next batch is the current end-index.\n",
    "        begin = end\n",
    "\n",
    "    return images, cls, one_hot_encoded(class_numbers = cls, num_classes=num_classes)\n",
    "    "
   ]
  },
  {
   "cell_type": "code",
   "execution_count": null,
   "metadata": {
    "collapsed": true
   },
   "outputs": [],
   "source": [
    "def load_test_data():\n",
    "    \"\"\"\n",
    "    Load all the test-data for the CIFAR-10 data-set.\n",
    "    Returns the images, class-numbers and one-hot encoded class-labels.\n",
    "    \"\"\"\n",
    "\n",
    "    images, cls = _load_data(filename=\"test_batch\")\n",
    "\n",
    "    return images, cls, one_hot_encoded(class_numbers = cls, num_classes=num_classes)"
   ]
  },
  {
   "cell_type": "code",
   "execution_count": null,
   "metadata": {
    "collapsed": false
   },
   "outputs": [],
   "source": [
    "class_names = load_class_names()\n",
    "class_names"
   ]
  },
  {
   "cell_type": "code",
   "execution_count": null,
   "metadata": {
    "collapsed": false
   },
   "outputs": [],
   "source": [
    "images_train, cls_train, labels_train = load_training_data()"
   ]
  },
  {
   "cell_type": "code",
   "execution_count": null,
   "metadata": {
    "collapsed": false
   },
   "outputs": [],
   "source": [
    "images_test, cls_test, labels_test = load_test_data()"
   ]
  },
  {
   "cell_type": "code",
   "execution_count": null,
   "metadata": {
    "collapsed": false
   },
   "outputs": [],
   "source": [
    "print(\"Size of:\")\n",
    "print(\"- Training-set:\\t\\t{}\".format(len(images_train)))\n",
    "print(\"- Test-set:\\t\\t{}\".format(len(images_test)))"
   ]
  },
  {
   "cell_type": "code",
   "execution_count": null,
   "metadata": {
    "collapsed": false
   },
   "outputs": [],
   "source": [
    "print(\"Type of\")\n",
    "print(\"-Training images:\\t{}, shape {}\".format(type(images_train),images_train.shape))\n",
    "print(\"-Training images:\\t{}, shape {}\".format(type(images_test),images_test.shape))"
   ]
  },
  {
   "cell_type": "code",
   "execution_count": null,
   "metadata": {
    "collapsed": false
   },
   "outputs": [],
   "source": [
    "print(cls_train)"
   ]
  },
  {
   "cell_type": "code",
   "execution_count": null,
   "metadata": {
    "collapsed": false
   },
   "outputs": [],
   "source": [
    "print(type(labels_train.shape))"
   ]
  },
  {
   "cell_type": "code",
   "execution_count": null,
   "metadata": {
    "collapsed": false
   },
   "outputs": [],
   "source": [
    "images_test[0].size"
   ]
  },
  {
   "cell_type": "markdown",
   "metadata": {},
   "source": [
    "<b> Plot Images </b>"
   ]
  },
  {
   "cell_type": "code",
   "execution_count": null,
   "metadata": {
    "collapsed": true
   },
   "outputs": [],
   "source": [
    "import matplotlib.pyplot as plt "
   ]
  },
  {
   "cell_type": "code",
   "execution_count": null,
   "metadata": {
    "collapsed": true
   },
   "outputs": [],
   "source": [
    "def plot_images(images, cls_true, cls_pred=None, smooth=True):\n",
    "\n",
    "    assert len(images) == len(cls_true) == 9\n",
    "\n",
    "    # Create figure with sub-plots.\n",
    "    fig, axes = plt.subplots(3, 3)\n",
    "\n",
    "    # Adjust vertical spacing if we need to print ensemble and best-net.\n",
    "    if cls_pred is None:\n",
    "        hspace = 0.3\n",
    "    else:\n",
    "        hspace = 0.6\n",
    "    fig.subplots_adjust(hspace=hspace, wspace=0.3)\n",
    "\n",
    "    for i, ax in enumerate(axes.flat):\n",
    "        # Interpolation type.\n",
    "        if smooth:\n",
    "            interpolation = 'spline16'\n",
    "        else:\n",
    "            interpolation = 'nearest'\n",
    "\n",
    "        # Plot image.\n",
    "        ax.imshow(images[i, :, :, :],\n",
    "                  interpolation=interpolation)\n",
    "            \n",
    "        # Name of the true class.\n",
    "        cls_true_name = class_names[cls_true[i]]\n",
    "\n",
    "        # Show true and predicted classes.\n",
    "        if cls_pred is None:\n",
    "            xlabel = \"True: {0}\".format(cls_true_name)\n",
    "        else:\n",
    "            # Name of the predicted class.\n",
    "            cls_pred_name = class_names[cls_pred[i]]\n",
    "\n",
    "            xlabel = \"True: {0}\\nPred: {1}\".format(cls_true_name, cls_pred_name)\n",
    "\n",
    "        # Show the classes as the label on the x-axis.\n",
    "        ax.set_xlabel(xlabel)\n",
    "        \n",
    "        # Remove ticks from the plot.\n",
    "        ax.set_xticks([])\n",
    "        ax.set_yticks([])\n",
    "        \n",
    "    plt.show()"
   ]
  },
  {
   "cell_type": "code",
   "execution_count": null,
   "metadata": {
    "collapsed": false
   },
   "outputs": [],
   "source": [
    "# Get the first images from the test-set.\n",
    "images = images_test[0:9]\n",
    "\n",
    "# Get the true classes for those images.\n",
    "cls_true = cls_test[0:9]\n",
    "\n",
    "# Plot the images and labels using our helper-function above.\n",
    "plot_images(images=images, cls_true=cls_true, smooth=False)"
   ]
  },
  {
   "cell_type": "code",
   "execution_count": null,
   "metadata": {
    "collapsed": false
   },
   "outputs": [],
   "source": [
    "plot_images(images=images, cls_true=cls_true, smooth=True)"
   ]
  },
  {
   "cell_type": "code",
   "execution_count": null,
   "metadata": {
    "collapsed": false
   },
   "outputs": [],
   "source": [
    "#reshaping the images\n",
    "print('Original Dimenions..')\n",
    "print('Training data size- Data,Labels {},{}'.format(images_train.shape,cls_train.shape))\n",
    "print('Test data size- Data,Labels {},{}'.format(images_test.shape,cls_test.shape))\n",
    "\n"
   ]
  },
  {
   "cell_type": "code",
   "execution_count": null,
   "metadata": {
    "collapsed": false
   },
   "outputs": [],
   "source": [
    "images_train = images_train.reshape(50000,-1) # -1 indicates reshaping with the leftover dimensions\n",
    "cls_train = cls_train.reshape(50000,-1)\n",
    "\n",
    "images_test = images_test.reshape(10000,-1)\n",
    "cls_test = cls_test.reshape(10000,-1)\n",
    "\n",
    "print('Post Reshaping Dimenions..')\n",
    "print('Training data size- Data,Labels {},{}'.format(images_train.shape,cls_train.shape))\n",
    "print('Test data size- Data,Labels {},{}'.format(images_test.shape,cls_test.shape))"
   ]
  },
  {
   "cell_type": "markdown",
   "metadata": {},
   "source": [
    "<h3>Neural Network Implementation </h3>"
   ]
  },
  {
   "cell_type": "code",
   "execution_count": 923,
   "metadata": {
    "collapsed": false
   },
   "outputs": [
    {
     "data": {
      "text/plain": [
       "(10000, 10)"
      ]
     },
     "execution_count": 923,
     "metadata": {},
     "output_type": "execute_result"
    }
   ],
   "source": [
    "number_of_images = 10000;\n",
    "\n",
    "images_trainset = images_train[:number_of_images].T\n",
    "len(images_trainset)\n",
    "labels_trainset = labels_train[:number_of_images]\n",
    "len(labels_trainset)\n",
    "images_trainset.shape\n",
    "labels_trainset.shape"
   ]
  },
  {
   "cell_type": "code",
   "execution_count": 924,
   "metadata": {
    "collapsed": true
   },
   "outputs": [],
   "source": [
    "#Paramters for the neural network\n",
    "numberOfLayers = 3\n",
    "neurons_layer_one = 300\n",
    "neurons_layer_two = 150\n",
    "neurons_output_layer = 10;\n",
    "\n",
    "layer_dim = [images_trainset.shape[0],neurons_layer_one,neurons_layer_two,neurons_output_layer]\n",
    "parameters = {\n",
    "}"
   ]
  },
  {
   "cell_type": "code",
   "execution_count": 926,
   "metadata": {
    "collapsed": false
   },
   "outputs": [],
   "source": [
    "class NeuralNetwork:\n",
    "    \n",
    "    \n",
    "    def __init__(self,dimensions):\n",
    "        self.layer_dimensions = dimensions;\n",
    "        np.random.seed(1);\n",
    "        self.parameters = parameters;\n",
    "        L = len(layer_dim)\n",
    "        \n",
    "        for i in range(0,L-1):\n",
    "            parameters[\"W\"+str(i+1)] = (np.random.randn(dimensions[i+1],dimensions[i])*0.01)\n",
    "            parameters[\"b\"+str(i+1)] = np.zeros((dimensions[i+1],1)) \n",
    "            \n",
    "                \n",
    "    def affineForward(self,A_prev,W,b):\n",
    "        #print('Inside affineForward defn.......')\n",
    "        Z = np.dot(W,A_prev)+b\n",
    "        #print('Shape after dot product',Z.shape)\n",
    "        \n",
    "        #Z = np.dot(A,W)\n",
    "        cache = (A_prev,W,b)\n",
    "        return Z,cache\n",
    "    \n",
    "    \n",
    "    def activationForward(self, A,layer,activation_function=\"relu\"):\n",
    "        parameters = self.parameters\n",
    "        W = parameters[\"W\"+str(layer)]\n",
    "        b = parameters[\"b\"+str(layer)]\n",
    "        Z,linear_cache = self.affineForward(A,W,b)\n",
    "        \n",
    "        #linear_cache is for A,W,b\n",
    "        #activation_cache is the Z\n",
    "        #print(\"Layer,Size of the input,Weight,Bias,Z {},{},{},{},{}\".format(layer,A.shape,W.shape,b.shape,Z.shape))\n",
    "        if(activation_function == \"relu\"):\n",
    "            A,activation_cache = relu(Z)\n",
    "        elif (activation_function == \"softmax\"):\n",
    "            A,activation_cache = sigmoid(Z)\n",
    "        \n",
    "        cache = (linear_cache,activation_cache)\n",
    "        return A,cache\n",
    "        \n",
    "\n",
    "    def forwardPropagation(self,X):\n",
    "        \n",
    "        #print('......Inside forwardPropagation......')\n",
    "        L = len(self.layer_dimensions)\n",
    "        A = X\n",
    "        caches =[]\n",
    "        #print('Dimension length..',L)\n",
    "        \n",
    "        for i in range(1,L-1):\n",
    "            #print('......Starting layer....',i)\n",
    "            A_prev = A\n",
    "            A,cache = self.activationForward(A_prev,i,\"relu\")         \n",
    "            caches.append(cache)     \n",
    "        #print('........Applying softmax to output layer......')\n",
    "        #To figure out the output layer\n",
    "        #print('...layer,A,Z..{},{},{}'.format(L-1,A.shape,Z.shape))\n",
    "        \n",
    "        Al,cache = self.activationForward(A,L-1,\"softmax\")\n",
    "        caches.append(cache)\n",
    "        #print('Post applying softmax function for layer,Y,Z..{},{},{}'.format(L-1,Al.shape,cache.shape))           \n",
    "        return Al,caches\n",
    "    \n",
    "    def costFunction(self,Al,y):\n",
    "        Al = Al.T\n",
    "        m = y.shape[0]\n",
    "        cost = -(1/m)*((np.sum((y*np.log(Al)))+((1-y)*(np.log(1-Al)))))\n",
    "        print('...Shape of cost function {}....'.format(cost.shape))\n",
    "        return cost\n",
    "    \n",
    " #BackPropagation logic begin here\n",
    "    \n",
    "    def affineBackward(self,dZ,linear_cache):\n",
    "        #delta = g'(z) = dZ\n",
    "        #dZ would represent the g'(z)\n",
    "        #a=A_prev ; dw3= a.dZ\n",
    "        \n",
    "        A_prev,W,b = linear_cache\n",
    "        m = A_prev.shape[1]\n",
    "        \n",
    "        dW = (1/m)*np.dot(dZ,A_prev.T)\n",
    "        db = (1/m)*np.sum(dZ,axis=1,keepdims=True)\n",
    "        \n",
    "        dA_prev = np.dot(W.T,dZ)\n",
    "        \n",
    "        return dA_prev,dW,db\n",
    "        \n",
    "        \n",
    "    \n",
    "    def activationBackward(self, dA, cache,activation_fn):\n",
    "        linear_cache,activation_cache = cache;\n",
    "        \n",
    "        if activation_fn == \"relu\":\n",
    "            dZ = relu_gradient(dA,activation_cache)\n",
    "            dA_prev, dW,db = self.affineBackward(dZ,linear_cache)\n",
    "        \n",
    "        elif activation_fn == \"sigmoid\":\n",
    "            dZ = sigmoid_gradient(dA,activation_cache)\n",
    "            dA_prev, dW,db = self.affineBackward(dZ,linear_cache)\n",
    "            \n",
    "        \n",
    "        return dA_prev, dW,db\n",
    "    \n",
    "    \n",
    "    \n",
    "    def backwardPropagation(self,Al,y,caches):\n",
    "        L = len(caches)\n",
    "        print('Length of cache...',L)\n",
    "        grads ={}\n",
    "        dAl = np.divide(Al - y.T, np.multiply(Al, 1 - Al))\n",
    "        \n",
    "        #Use different activation function at the last layer\n",
    "        grads[\"dA\"+str(L-1)],grads[\"dW\"+str(L)],grads[\"db\"+str(L)] = self.activationBackward(dAl,caches[L-1],\"sigmoid\")\n",
    "        \n",
    "        for i in range(L-1,0,-1):\n",
    "            current_cache = caches[i - 1]\n",
    "            grads[\"dA\"+str(i-1)],grads[\"dW\"+str(i)],grads[\"db\"+str(i)] = self.activationBackward(grads[\"dA\"+str(i)],current_cache,\"relu\")\n",
    "            \n",
    "        return grads  \n",
    "    \n",
    "    # define the function to update both weight matrices and bias vectors\n",
    "    def update_parameters(self, grads, learning_rate):\n",
    "        #print(grads)\n",
    "        parameters = self.parameters\n",
    "        \n",
    "        L = len(parameters)\n",
    "        \n",
    "       \n",
    "        for l in range (1,4):\n",
    "            parameters[\"W\" + str(l)] = parameters[\n",
    "            \"W\" + str(l)] - learning_rate * grads[\"dW\" + str(l)]\n",
    "            parameters[\"b\" + str(l)] = parameters[\n",
    "            \"b\" + str(l)] - learning_rate * grads[\"db\" + str(l)]\n",
    "        \n",
    "        return parameters\n",
    "         \n",
    "        \n",
    "      \n",
    "    def train(self, X,y, number_of_iterations,learning_rate,activation_fn):\n",
    "        print('....Training the network for total iteration of of {}'.format(number_of_iterations))\n",
    "        \n",
    "        for i in range (1,number_of_iterations):\n",
    "            print('....Starting Iteration {}..........'.format(i))\n",
    "            Al,caches = self.forwardPropagation(X);\n",
    "            Y_pred = Al\n",
    "            \n",
    "            print('.......Calculating the cost function.......')\n",
    "            cost = self.costFunction(Al,y)\n",
    "            \n",
    "            print('.......Calculating gradients.......')\n",
    "            gradients = self.backwardPropagation(Al,y,caches)\n",
    "            \n",
    "            print('.......Updating paramaters.......')\n",
    "            paramters = self.update_parameters(gradients,learning_rate)\n",
    "            \n",
    "            \n",
    "        print('....Training completed....')       \n",
    "        \n",
    "        return Y_pred,paramters"
   ]
  },
  {
   "cell_type": "code",
   "execution_count": null,
   "metadata": {
    "collapsed": false
   },
   "outputs": [],
   "source": [
    "len(layer_dim)"
   ]
  },
  {
   "cell_type": "code",
   "execution_count": 894,
   "metadata": {
    "collapsed": true
   },
   "outputs": [],
   "source": [
    "#Define activation function\n",
    "\n",
    "def relu(Z):\n",
    "    A = np.maximum(0,Z)\n",
    "    return A,Z\n",
    "\n",
    "def leaky_relu(Z):\n",
    "    A = np.maximum(0.1*Z,Z)\n",
    "    return A,Z\n",
    "\n",
    "def sigmoid(Z):\n",
    "    A = 1/(1+np.exp(-Z))\n",
    "    return A,Z\n",
    "\n",
    "def tanh(Z):\n",
    "    A = (np.exp(Z)-np.exp(-Z))/(np.exp(Z)+np.exp(-Z))\n",
    "    return A,Z\n",
    "\n",
    "def softmax(Z):\n",
    "    Z = Z.T\n",
    "    A = (np.exp(Z))/float(sum(np.exp(Z)))\n",
    "    return A,Z"
   ]
  },
  {
   "cell_type": "code",
   "execution_count": 895,
   "metadata": {
    "collapsed": false
   },
   "outputs": [],
   "source": [
    "\n",
    "Z = np.linspace(-10,10,100)\n",
    "A_sigmoid,z = sigmoid(Z)\n",
    "A_relu,z = relu(Z)\n",
    "\n",
    "A_tanh,z = tanh(Z)\n",
    "A_leaky_relu,z = leaky_relu(Z)\n",
    "A_softmax,z = softmax(Z)"
   ]
  },
  {
   "cell_type": "code",
   "execution_count": 896,
   "metadata": {
    "collapsed": false
   },
   "outputs": [
    {
     "data": {
      "image/png": "[encoded data removed]",
      "text/plain": [
       "<matplotlib.figure.Figure at 0x11f576f28>"
      ]
     },
     "metadata": {},
     "output_type": "display_data"
    }
   ],
   "source": [
    "# Plot sigmoid\n",
    "plt.figure(figsize=(12, 8))\n",
    "plt.subplot(3, 2, 1)\n",
    "plt.plot(z, A_sigmoid, label = \"Function\")\n",
    "plt.plot(z, A_sigmoid * (1 - A_sigmoid), label = \"Derivative\")\n",
    "plt.legend(loc = \"upper left\")\n",
    "plt.xlabel(\"z\")\n",
    "plt.ylabel(r\"$\\frac{1}{1 + e^{-z}}$\")\n",
    "plt.title(\"Sigmoid Function\", fontsize = 16)\n",
    "# Plot tanh\n",
    "plt.subplot(3, 2, 2)\n",
    "plt.plot(z, A_tanh, 'b', label = \"Function\")\n",
    "plt.plot(z, 1 - np.square(A_tanh), 'r',label = \"Derivative\")\n",
    "plt.legend(loc = \"upper left\")\n",
    "plt.xlabel(\"z\")\n",
    "plt.ylabel(r\"$\\frac{e^z - e^{-z}}{e^z + e^{-z}}$\")\n",
    "plt.title(\"Hyperbolic Tangent Function\", fontsize = 16)\n",
    "# plot relu\n",
    "plt.subplot(3, 2, 3)\n",
    "plt.plot(z, A_relu, 'g')\n",
    "plt.xlabel(\"z\")\n",
    "plt.ylabel(r\"$max\\{0, z\\}$\")\n",
    "plt.title(\"ReLU Function\", fontsize = 16)\n",
    "# plot leaky relu\n",
    "plt.subplot(3, 2, 4)\n",
    "plt.plot(z, A_leaky_relu, 'y')\n",
    "plt.xlabel(\"z\")\n",
    "plt.ylabel(r\"$max\\{0.1z, z\\}$\")\n",
    "plt.title(\"Leaky ReLU Function\", fontsize = 16)\n",
    "\n",
    "# plot softmax\n",
    "plt.subplot(3,2,5)\n",
    "plt.plot(z,A_softmax,label=\"Function\")\n",
    "plt.xlabel(\"z\")\n",
    "plt.ylabel(r\"$\\frac{1}{e^(z)/sum(e^z)}$\")\n",
    "plt.title(\"Softmax Function\", fontsize = 16)\n",
    "\n",
    "plt.tight_layout();\n",
    "plt.show()"
   ]
  },
  {
   "cell_type": "code",
   "execution_count": null,
   "metadata": {
    "collapsed": true
   },
   "outputs": [],
   "source": [
    "# Derivative functions\n",
    "\n",
    "def sigmoid_gradient(dA,Z):\n",
    "    A,Z = sigmoid(Z)\n",
    "    dZ = dA * A * (1-A)\n",
    "    return dZ\n",
    "\n",
    "\n",
    "def tanh_gradient(dA, Z):\n",
    "    A, Z = tanh(Z)\n",
    "    dZ = dA * (1 - np.square(A))\n",
    "\n",
    "    return dZ\n",
    "\n",
    "\n",
    "def relu_gradient(dA, Z):\n",
    "    A, Z = relu(Z)\n",
    "    dZ = np.multiply(dA, np.int64(A > 0))\n",
    "\n",
    "    return dZ\n",
    "    "
   ]
  },
  {
   "cell_type": "code",
   "execution_count": 927,
   "metadata": {
    "collapsed": false
   },
   "outputs": [
    {
     "name": "stdout",
     "output_type": "stream",
     "text": [
      "(300, 3072) (150, 300) (10, 150)\n",
      "(300, 1) (150, 1) (10, 1)\n"
     ]
    }
   ],
   "source": [
    "model = NeuralNetwork(layer_dim)\n",
    "print(model.parameters[\"W1\"].shape,model.parameters[\"W2\"].shape,model.parameters[\"W3\"].shape)\n",
    "print(model.parameters[\"b1\"].shape,model.parameters[\"b2\"].shape,model.parameters[\"b3\"].shape)\n",
    "\n"
   ]
  },
  {
   "cell_type": "code",
   "execution_count": null,
   "metadata": {
    "collapsed": false
   },
   "outputs": [],
   "source": [
    "images_trainset.shape"
   ]
  },
  {
   "cell_type": "code",
   "execution_count": 898,
   "metadata": {
    "collapsed": false
   },
   "outputs": [],
   "source": [
    "#Transpose the image vector\n",
    "test = images_trainset[0:100,:]\n",
    "test = test.T"
   ]
  },
  {
   "cell_type": "code",
   "execution_count": null,
   "metadata": {
    "collapsed": false
   },
   "outputs": [],
   "source": [
    "test.shape\n",
    "one_image = test[:,1]\n",
    "one_image.shape\n",
    "#one_image=one_image.reshape(-1,3072)\n",
    "one_image.shape"
   ]
  },
  {
   "cell_type": "code",
   "execution_count": null,
   "metadata": {
    "collapsed": false
   },
   "outputs": [
    {
     "name": "stdout",
     "output_type": "stream",
     "text": [
      "....Training the network for total iteration of of 100\n",
      "....Starting Iteration 1..........\n",
      ".......Calculating the cost function.......\n",
      "...Shape of cost function (10000, 10)....\n",
      ".......Calculating gradients.......\n",
      "Length of cache... 3\n",
      ".......Updating paramaters.......\n",
      "....Starting Iteration 2..........\n",
      ".......Calculating the cost function.......\n",
      "...Shape of cost function (10000, 10)....\n",
      ".......Calculating gradients.......\n",
      "Length of cache... 3\n",
      ".......Updating paramaters.......\n",
      "....Starting Iteration 3..........\n",
      ".......Calculating the cost function.......\n",
      "...Shape of cost function (10000, 10)....\n",
      ".......Calculating gradients.......\n",
      "Length of cache... 3\n",
      ".......Updating paramaters.......\n",
      "....Starting Iteration 4..........\n",
      ".......Calculating the cost function.......\n",
      "...Shape of cost function (10000, 10)....\n",
      ".......Calculating gradients.......\n",
      "Length of cache... 3\n",
      ".......Updating paramaters.......\n",
      "....Starting Iteration 5..........\n",
      ".......Calculating the cost function.......\n",
      "...Shape of cost function (10000, 10)....\n",
      ".......Calculating gradients.......\n",
      "Length of cache... 3\n",
      ".......Updating paramaters.......\n",
      "....Starting Iteration 6..........\n",
      ".......Calculating the cost function.......\n",
      "...Shape of cost function (10000, 10)....\n",
      ".......Calculating gradients.......\n",
      "Length of cache... 3\n",
      ".......Updating paramaters.......\n",
      "....Starting Iteration 7..........\n",
      ".......Calculating the cost function.......\n",
      "...Shape of cost function (10000, 10)....\n",
      ".......Calculating gradients.......\n",
      "Length of cache... 3\n",
      ".......Updating paramaters.......\n",
      "....Starting Iteration 8..........\n",
      ".......Calculating the cost function.......\n",
      "...Shape of cost function (10000, 10)....\n",
      ".......Calculating gradients.......\n",
      "Length of cache... 3\n",
      ".......Updating paramaters.......\n",
      "....Starting Iteration 9..........\n",
      ".......Calculating the cost function.......\n",
      "...Shape of cost function (10000, 10)....\n",
      ".......Calculating gradients.......\n",
      "Length of cache... 3\n",
      ".......Updating paramaters.......\n",
      "....Starting Iteration 10..........\n",
      ".......Calculating the cost function.......\n",
      "...Shape of cost function (10000, 10)....\n",
      ".......Calculating gradients.......\n",
      "Length of cache... 3\n",
      ".......Updating paramaters.......\n",
      "....Starting Iteration 11..........\n",
      ".......Calculating the cost function.......\n",
      "...Shape of cost function (10000, 10)....\n",
      ".......Calculating gradients.......\n",
      "Length of cache... 3\n",
      ".......Updating paramaters.......\n",
      "....Starting Iteration 12..........\n",
      ".......Calculating the cost function.......\n",
      "...Shape of cost function (10000, 10)....\n",
      ".......Calculating gradients.......\n",
      "Length of cache... 3\n",
      ".......Updating paramaters.......\n",
      "....Starting Iteration 13..........\n",
      ".......Calculating the cost function.......\n",
      "...Shape of cost function (10000, 10)....\n",
      ".......Calculating gradients.......\n",
      "Length of cache... 3\n"
     ]
    }
   ],
   "source": [
    "Y_pred,paramters = model.train(images_trainset,labels_trainset,100, 0.03,\"relu\")"
   ]
  },
  {
   "cell_type": "code",
   "execution_count": null,
   "metadata": {
    "collapsed": false
   },
   "outputs": [],
   "source": [
    "parameters"
   ]
  },
  {
   "cell_type": "code",
   "execution_count": 919,
   "metadata": {
    "collapsed": false
   },
   "outputs": [],
   "source": [
    "Y_score = np.array(Y_pred.T)"
   ]
  },
  {
   "cell_type": "code",
   "execution_count": 915,
   "metadata": {
    "collapsed": false
   },
   "outputs": [
    {
     "data": {
      "text/plain": [
       "(10, 1000)"
      ]
     },
     "execution_count": 915,
     "metadata": {},
     "output_type": "execute_result"
    }
   ],
   "source": [
    "Y_pred.shape"
   ]
  },
  {
   "cell_type": "code",
   "execution_count": null,
   "metadata": {
    "collapsed": false
   },
   "outputs": [],
   "source": [
    "cache[2]"
   ]
  },
  {
   "cell_type": "code",
   "execution_count": 921,
   "metadata": {
    "collapsed": false
   },
   "outputs": [
    {
     "data": {
      "text/plain": [
       "array([0.12904855, 0.11739658, 0.10709564, 0.09847431, 0.09876582,\n",
       "       0.08705004, 0.10428255, 0.10629986, 0.11789739, 0.1110972 ])"
      ]
     },
     "execution_count": 921,
     "metadata": {},
     "output_type": "execute_result"
    }
   ],
   "source": [
    "#Y_score = Y_score.T\n",
    "Y_score[0]"
   ]
  },
  {
   "cell_type": "code",
   "execution_count": 922,
   "metadata": {
    "collapsed": false
   },
   "outputs": [
    {
     "data": {
      "text/plain": [
       "array([6])"
      ]
     },
     "execution_count": 922,
     "metadata": {},
     "output_type": "execute_result"
    }
   ],
   "source": [
    "cls_train[0]\n",
    "#labels_trainset.shape\n",
    "#labels_trainset"
   ]
  },
  {
   "cell_type": "code",
   "execution_count": null,
   "metadata": {
    "collapsed": false
   },
   "outputs": [],
   "source": [
    "Y_pred = Y_pred.T\n",
    "Y_pred.shape"
   ]
  }
 ],
 "metadata": {
  "kernelspec": {
   "display_name": "Python 3",
   "language": "python",
   "name": "python3"
  },
  "language_info": {
   "codemirror_mode": {
    "name": "ipython",
    "version": 3
   },
   "file_extension": ".py",
   "mimetype": "text/x-python",
   "name": "python",
   "nbconvert_exporter": "python",
   "pygments_lexer": "ipython3",
   "version": "3.6.1"
  }
 },
 "nbformat": 4,
 "nbformat_minor": 2
}
